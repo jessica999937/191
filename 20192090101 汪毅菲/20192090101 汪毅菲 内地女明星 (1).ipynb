{
 "cells": [
  {
   "cell_type": "code",
   "execution_count": null,
   "metadata": {},
   "outputs": [],
   "source": [
    "from selenium import webdriver\n",
    "import re,time\n",
    "driver=webdriver.Chrome()\n",
    "driver.get(\"https://www.baidu.com/s?ie=UTF-8&wd=%E6%98%8E%E6%98%9F\")\n",
    "time.sleep(3)\n",
    "driver.find_element_by_xpath(\"//div[@id='1']/div/div/div/div[2]/p/span[4]\").click()\n",
    "time.sleep(3)\n",
    "driver.find_element_by_xpath(\"//div[@id='1']/div/div/div/div[2]/p[2]/span[3]\").click()\n",
    "time.sleep(3)"
   ]
  },
  {
   "cell_type": "code",
   "execution_count": null,
   "metadata": {},
   "outputs": [],
   "source": [
    "list1=[]\n",
    "while True:\n",
    "    reobj = re.compile(r'<p class=\"op_exactqa_item_img\"><a href=\"([\\d\\D]*?)\" title=\"([\\d\\D]*?)\" target=\"_blank\"><img class=\"c-img c-img4\" src=\"([\\d\\D]*?)\"></a></p><p class=\"c-gap-top-small\">')\n",
    "    for match in reobj.finditer(html):\n",
    "        c=match.group(1)\n",
    "        d=match.group(2)\n",
    "        e=match.group(3)\n",
    "        t=(c,d,e)\n",
    "        list1,append(t)\n",
    "    s=re.compile(r'<span class=\"opui-page-next OP_LOG_BTN\" style=([\\d\\D]*?)>下一页</span>')\n",
    "    for match in s.finditer(html):\n",
    "        y=match.group(1)\n",
    "        if y.find(\"none\")!=-1:\n",
    "            break\n",
    "        else:\n",
    "            driver.find_element_by_xpath(\"//div[@id='1']/div/div/div[2]/div[2]/p/span[6]\").click()\n",
    "            time.sleep(3)"
   ]
  },
  {
   "cell_type": "code",
   "execution_count": null,
   "metadata": {},
   "outputs": [],
   "source": [
    "+with open('D:\\333.csv','w',encoding=\"utf-8-sig\") as k:\n",
    "    k.write('图片来源，名字，链接\\n')\n",
    "    for l in list1:\n",
    "        k.write(l[0]+\",\"+l[1]+\",\"+l[2]+\"\\n\")"
   ]
  }
 ],
 "metadata": {
  "kernelspec": {
   "display_name": "Python 3",
   "language": "python",
   "name": "python3"
  },
  "language_info": {
   "codemirror_mode": {
    "name": "ipython",
    "version": 3
   },
   "file_extension": ".py",
   "mimetype": "text/x-python",
   "name": "python",
   "nbconvert_exporter": "python",
   "pygments_lexer": "ipython3",
   "version": "3.6.5"
  }
 },
 "nbformat": 4,
 "nbformat_minor": 2
}
