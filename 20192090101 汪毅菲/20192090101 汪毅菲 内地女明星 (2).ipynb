{
 "cells": [
  {
   "cell_type": "code",
   "execution_count": 1,
   "metadata": {},
   "outputs": [
    {
     "name": "stdout",
     "output_type": "stream",
     "text": [
      "[('函数题', '第6章函数-1', 'https://pintia.cn/problem-sets/1111652100718116864/problem-sets/1111652100718116864/problems/1163035698160459776', '标号</th><th class=\"\">标题</th><th class=\"\">分数</th><th class=\"\">通过数</th><th class=\"\">提交数</th><th class=\"\">通过率</th></tr></thead><tbody><tr><td class=\"answerIcon_1du7d\"></td><td>第6章函数-1</td><td><a href=\"/problem-sets/1111652100718116864/problems/1163035698160459776\" class=\"\">使用函数求特殊a串数列和', '10', '1012', '3280', '0.31'), ('函数题', '第6章函数-2', 'https://pintia.cn/problem-sets/1111652100718116864/problem-sets/1111652100718116864/problems/1163035698160459777', '使用函数求素数和', '20', '815', '2182', '0.37'), ('函数题', '第6章函数-3', 'https://pintia.cn/problem-sets/1111652100718116864/problem-sets/1111652100718116864/problems/1163035698160459778', '使用函数统计指定数字的个数', '20', '743', '1376', '0.54'), ('函数题', '第6章函数-4', 'https://pintia.cn/problem-sets/1111652100718116864/problem-sets/1111652100718116864/problems/1163035698160459779', '使用函数输出指定范围内Fibonacci数的个数 ', '20', '665', '1484', '0.45'), ('函数题', '第6章函数-5', 'https://pintia.cn/problem-sets/1111652100718116864/problem-sets/1111652100718116864/problems/1163035698160459781', '使用函数求余弦函数的近似值', '20', '580', '1559', '0.37'), ('函数题', '第6章函数-6', 'https://pintia.cn/problem-sets/1111652100718116864/problem-sets/1111652100718116864/problems/1163035698160459789', '缩写词', '20', '638', '1207', '0.53'), ('编程题', '第1章-1', 'https://pintia.cn/problem-sets/1111652100718116864/problem-sets/1111652100718116864/problems/1111653039147499521', '标号</th><th class=\"\">标题</th><th class=\"\">分数</th><th class=\"\">通过数</th><th class=\"\">提交数</th><th class=\"\">通过率</th></tr></thead><tbody><tr><td class=\"answerIcon_1du7d\"></td><td>第1章-1</td><td><a href=\"/problem-sets/1111652100718116864/problems/1111653039147499521\" class=\"\">从键盘输入两个数，求它们的和并输出', '30', '3957', '10011', '0.40'), ('编程题', '第1章-2', 'https://pintia.cn/problem-sets/1111652100718116864/problem-sets/1111652100718116864/problems/1111653039147499522', '从键盘输入三个数到a,b,c中，按公式值输出', '30', '3255', '12917', '0.25'), ('编程题', '第1章-3', 'https://pintia.cn/problem-sets/1111652100718116864/problem-sets/1111652100718116864/problems/1111653039147499520', '输出“Python语言简单易学”', '10', '2620', '9275', '0.28'), ('编程题', '第2章-1', 'https://pintia.cn/problem-sets/1111652100718116864/problem-sets/1111652100718116864/problems/1111653447408467981', '计算 11+12+13+...+m', '30', '2933', '12214', '0.24'), ('编程题', '第2章-2', 'https://pintia.cn/problem-sets/1111652100718116864/problem-sets/1111652100718116864/problems/1111653447408467968', '计算分段函数[1]', '10', '2517', '10858', '0.23'), ('编程题', '第2章-3', 'https://pintia.cn/problem-sets/1111652100718116864/problem-sets/1111652100718116864/problems/1111653447408467971', '阶梯电价', '15', '2165', '8812', '0.25'), ('编程题', '第2章-4', 'https://pintia.cn/problem-sets/1111652100718116864/problem-sets/1111652100718116864/problems/1111653447408467975', '特殊a串数列求和', '20', '2143', '7105', '0.30'), ('编程题', '第2章-5', 'https://pintia.cn/problem-sets/1111652100718116864/problem-sets/1111652100718116864/problems/1111653447408467970', '求奇数分之一序列前N项和', '15', '1896', '5219', '0.36'), ('编程题', '第2章-6', 'https://pintia.cn/problem-sets/1111652100718116864/problem-sets/1111652100718116864/problems/1111653447408467973', '求交错序列前N项和', '15', '1769', '4031', '0.44'), ('编程题', '第2章-7', 'https://pintia.cn/problem-sets/1111652100718116864/problem-sets/1111652100718116864/problems/1111653447408467980', '产生每位数字相同的n位数', '30', '1850', '5473', '0.34'), ('编程题', '第2章-8', 'https://pintia.cn/problem-sets/1111652100718116864/problem-sets/1111652100718116864/problems/1111653447408467979', '转换函数使用', '30', '1720', '3619', '0.48'), ('编程题', '第2章-9', 'https://pintia.cn/problem-sets/1111652100718116864/problem-sets/1111652100718116864/problems/1111653447408467974', '比较大小', '10', '1660', '4638', '0.36'), ('编程题', '第2章-10', 'https://pintia.cn/problem-sets/1111652100718116864/problem-sets/1111652100718116864/problems/1111653447408467969', '输出华氏-摄氏温度转换表', '15', '1640', '7814', '0.21'), ('编程题', '第2章-11', 'https://pintia.cn/problem-sets/1111652100718116864/problem-sets/1111652100718116864/problems/1111653447408467972', '求平方与倒数序列的部分和', '15', '1358', '2538', '0.54'), ('编程题', '第2章-12', 'https://pintia.cn/problem-sets/1111652100718116864/problem-sets/1111652100718116864/problems/1111653447408467976', '输出三角形面积和周长', '15', '1441', '4861', '0.30'), ('编程题', '第2章-13', 'https://pintia.cn/problem-sets/1111652100718116864/problem-sets/1111652100718116864/problems/1111653447408467977', '分段计算居民水费', '10', '1300', '2176', '0.60'), ('编程题', '第2章-14', 'https://pintia.cn/problem-sets/1111652100718116864/problem-sets/1111652100718116864/problems/1111653447408467978', '求整数段和', '15', '1461', '6288', '0.23'), ('编程题', '第3章-1', 'https://pintia.cn/problem-sets/1111652100718116864/problem-sets/1111652100718116864/problems/1163031535431180308', '3-1.大于身高的平均值', '10', '1370', '2866', '0.48'), ('编程题', '第3章-2', 'https://pintia.cn/problem-sets/1111652100718116864/problem-sets/1111652100718116864/problems/1163031535431180309', '查验身份证', '15', '1109', '4152', '0.27'), ('编程题', '第3章-3', 'https://pintia.cn/problem-sets/1111652100718116864/problem-sets/1111652100718116864/problems/1163031535431180307', '输出字母在字符串中位置索引', '20', '1191', '2108', '0.56'), ('编程题', '第3章-4', 'https://pintia.cn/problem-sets/1111652100718116864/problem-sets/1111652100718116864/problems/1163031535431180288', '查找指定字符', '15', '1104', '2699', '0.41'), ('编程题', '第3章-5', 'https://pintia.cn/problem-sets/1111652100718116864/problem-sets/1111652100718116864/problems/1163031535431180289', '字符转换', '15', '1132', '3121', '0.36'), ('编程题', '第3章-6', 'https://pintia.cn/problem-sets/1111652100718116864/problem-sets/1111652100718116864/problems/1163031535431180290', '求整数序列中出现次数最多的数', '15', '1045', '3443', '0.30'), ('编程题', '第3章-7', 'https://pintia.cn/problem-sets/1111652100718116864/problem-sets/1111652100718116864/problems/1163031535431180291', '求最大值及其下标', '20', '1010', '2172', '0.47'), ('编程题', '第3章-8', 'https://pintia.cn/problem-sets/1111652100718116864/problem-sets/1111652100718116864/problems/1163031535431180292', '字符串逆序', '15', '1061', '1521', '0.70'), ('编程题', '第3章-9', 'https://pintia.cn/problem-sets/1111652100718116864/problem-sets/1111652100718116864/problems/1163031535431180293', '字符串转换成十进制整数', '15', '857', '4235', '0.20'), ('编程题', '第3章-10', 'https://pintia.cn/problem-sets/1111652100718116864/problem-sets/1111652100718116864/problems/1163031535431180294', '统计大写辅音字母', '15', '925', '1674', '0.55'), ('编程题', '第3章-11', 'https://pintia.cn/problem-sets/1111652100718116864/problem-sets/1111652100718116864/problems/1163031535431180295', '字符串排序', '20', '966', '1534', '0.63'), ('编程题', '第3章-12', 'https://pintia.cn/problem-sets/1111652100718116864/problem-sets/1111652100718116864/problems/1163031535431180296', '求整数的位数及各位数字之和', '15', '905', '1256', '0.72'), ('编程题', '第3章-13', 'https://pintia.cn/problem-sets/1111652100718116864/problem-sets/1111652100718116864/problems/1163031535431180297', '字符串替换', '15', '861', '1499', '0.57'), ('编程题', '第3章-14', 'https://pintia.cn/problem-sets/1111652100718116864/problem-sets/1111652100718116864/problems/1163031535431180298', '字符串字母大小写转换', '15', '906', '1660', '0.55'), ('编程题', '第3章-15', 'https://pintia.cn/problem-sets/1111652100718116864/problem-sets/1111652100718116864/problems/1163031535431180299', '统计一行文本的单词个数', '15', '878', '1481', '0.59'), ('编程题', '第3章-16', 'https://pintia.cn/problem-sets/1111652100718116864/problem-sets/1111652100718116864/problems/1163031535431180300', '删除重复字符', '20', '901', '1522', '0.59'), ('编程题', '第3章-17', 'https://pintia.cn/problem-sets/1111652100718116864/problem-sets/1111652100718116864/problems/1163031535431180301', '删除字符', '30', '922', '3922', '0.24'), ('编程题', '第3章-18', 'https://pintia.cn/problem-sets/1111652100718116864/problem-sets/1111652100718116864/problems/1163031535431180302', '输出10个不重复的英文字母', '30', '900', '2702', '0.33'), ('编程题', '第3章-19', 'https://pintia.cn/problem-sets/1111652100718116864/problem-sets/1111652100718116864/problems/1163031535431180303', '找最长的字符串', '15', '805', '1335', '0.60'), ('编程题', '第3章-20', 'https://pintia.cn/problem-sets/1111652100718116864/problem-sets/1111652100718116864/problems/1163031535431180304', '逆序的三位数', '10', '839', '1422', '0.59'), ('编程题', '第3章-21', 'https://pintia.cn/problem-sets/1111652100718116864/problem-sets/1111652100718116864/problems/1163031535431180305', '判断回文字符串', '15', '822', '1990', '0.41'), ('编程题', '第3章-22', 'https://pintia.cn/problem-sets/1111652100718116864/problem-sets/1111652100718116864/problems/1163031535431180306', '输出大写英文字母', '15', '768', '1390', '0.55'), ('编程题', '第4章-1', 'https://pintia.cn/problem-sets/1111652100718116864/problem-sets/1111652100718116864/problems/1163032889524477952', '生成3的乘方表', '15', '804', '1794', '0.45'), ('编程题', '第4章-2', 'https://pintia.cn/problem-sets/1111652100718116864/problem-sets/1111652100718116864/problems/1163032889524477954', '统计素数并求和', '20', '854', '2658', '0.32'), ('编程题', '第4章-3', 'https://pintia.cn/problem-sets/1111652100718116864/problem-sets/1111652100718116864/problems/1163032889524477955', '猴子吃桃问题', '15', '782', '1075', '0.73'), ('编程题', '第4章-4', 'https://pintia.cn/problem-sets/1111652100718116864/problem-sets/1111652100718116864/problems/1163032889524477956', '验证“哥德巴赫猜想”', '20', '799', '3325', '0.24'), ('编程题', '第4章-5', 'https://pintia.cn/problem-sets/1111652100718116864/problem-sets/1111652100718116864/problems/1163032889524477953', '求e的近似值', '15', '746', '1652', '0.45'), ('编程题', '第4章-6', 'https://pintia.cn/problem-sets/1111652100718116864/problem-sets/1111652100718116864/problems/1163032889524477957', '输出前 n 个Fibonacci数', '15', '792', '2589', '0.31'), ('编程题', '第4章-7', 'https://pintia.cn/problem-sets/1111652100718116864/problem-sets/1111652100718116864/problems/1163032889524477958', '统计学生平均成绩与及格人数', '15', '707', '3688', '0.19'), ('编程题', '第4章-8', 'https://pintia.cn/problem-sets/1111652100718116864/problem-sets/1111652100718116864/problems/1163032889524477959', '求分数序列前N项和', '15', '663', '1085', '0.61'), ('编程题', '第4章-9', 'https://pintia.cn/problem-sets/1111652100718116864/problem-sets/1111652100718116864/problems/1163032889524477960', '查询水果价格', '15', '652', '1539', '0.42'), ('编程题', '第4章-10', 'https://pintia.cn/problem-sets/1111652100718116864/problem-sets/1111652100718116864/problems/1163032889524477961', '最大公约数和最小公倍数', '15', '670', '1254', '0.53'), ('编程题', '第4章-11', 'https://pintia.cn/problem-sets/1111652100718116864/problem-sets/1111652100718116864/problems/1163032889524477962', '判断素数', '20', '734', '1318', '0.56'), ('编程题', '第4章-12', 'https://pintia.cn/problem-sets/1111652100718116864/problem-sets/1111652100718116864/problems/1163032889524477978', '求满足条件的斐波那契数', '30', '696', '956', '0.73'), ('编程题', '第4章-13', 'https://pintia.cn/problem-sets/1111652100718116864/problem-sets/1111652100718116864/problems/1163032889524477980', '求误差小于输入值的e的近似值', '20', '615', '1121', '0.55'), ('编程题', '第4章-14', 'https://pintia.cn/problem-sets/1111652100718116864/problem-sets/1111652100718116864/problems/1163032889524477979', '统计字符', '15', '591', '1422', '0.42'), ('编程题', '第4章-15', 'https://pintia.cn/problem-sets/1111652100718116864/problem-sets/1111652100718116864/problems/1163032889524477963', '换硬币', '20', '583', '1245', '0.47'), ('编程题', '第4章-16', 'https://pintia.cn/problem-sets/1111652100718116864/problem-sets/1111652100718116864/problems/1163032889524477964', 'jmu-python-判断是否构成三角形', '10', '609', '929', '0.66'), ('编程题', '第4章-17', 'https://pintia.cn/problem-sets/1111652100718116864/problem-sets/1111652100718116864/problems/1163032889524477965', '水仙花数（20 分）', '20', '658', '1172', '0.56'), ('编程题', '第4章-18', 'https://pintia.cn/problem-sets/1111652100718116864/problem-sets/1111652100718116864/problems/1163032889524477976', '猴子选大王', '20', '582', '945', '0.62'), ('编程题', '第4章-19', 'https://pintia.cn/problem-sets/1111652100718116864/problem-sets/1111652100718116864/problems/1163032889524477966', '矩阵运算', '20', '562', '929', '0.60'), ('编程题', '第4章-20', 'https://pintia.cn/problem-sets/1111652100718116864/problem-sets/1111652100718116864/problems/1163032889524477967', '求矩阵各行元素之和', '15', '555', '715', '0.78'), ('编程题', '第4章-21', 'https://pintia.cn/problem-sets/1111652100718116864/problem-sets/1111652100718116864/problems/1163032889524477968', '判断上三角矩阵', '15', '534', '1280', '0.42'), ('编程题', '第4章-22', 'https://pintia.cn/problem-sets/1111652100718116864/problem-sets/1111652100718116864/problems/1163032889524477969', '找鞍点', '20', '526', '1622', '0.32'), ('编程题', '第4章-23', 'https://pintia.cn/problem-sets/1111652100718116864/problem-sets/1111652100718116864/problems/1163032889524477971', '求矩阵的局部极大值', '15', '448', '849', '0.53'), ('编程题', '第4章-24', 'https://pintia.cn/problem-sets/1111652100718116864/problem-sets/1111652100718116864/problems/1163032889524477972', '打印九九口诀表', '15', '547', '1221', '0.45'), ('编程题', '第4章-25', 'https://pintia.cn/problem-sets/1111652100718116864/problem-sets/1111652100718116864/problems/1163032889524477970', '输出三角形字符阵列', '15', '481', '769', '0.63'), ('编程题', '第4章-26', 'https://pintia.cn/problem-sets/1111652100718116864/problem-sets/1111652100718116864/problems/1163032889524477973', '求1!+3!+5!+……+n!', '10', '546', '805', '0.68'), ('编程题', '第4章-27', 'https://pintia.cn/problem-sets/1111652100718116864/problem-sets/1111652100718116864/problems/1163032889524477974', '二维数组中每行最大值和每行和', '10', '462', '833', '0.55'), ('编程题', '第4章-28', 'https://pintia.cn/problem-sets/1111652100718116864/problem-sets/1111652100718116864/problems/1163032889524477975', '矩阵转置', '10', '486', '786', '0.62'), ('编程题', '第4章-29', 'https://pintia.cn/problem-sets/1111652100718116864/problem-sets/1111652100718116864/problems/1163032889524477977', '找出不是两个数组共有的元素', '20', '513', '1219', '0.42'), ('编程题', '第4章-30', 'https://pintia.cn/problem-sets/1111652100718116864/problem-sets/1111652100718116864/problems/1163032889524477981', '找完数', '20', '548', '2326', '0.24'), ('编程题', '第5章-1', 'https://pintia.cn/problem-sets/1111652100718116864/problem-sets/1111652100718116864/problems/1163034891574829066', '输出星期名缩写', '70', '633', '1008', '0.63'), ('编程题', '第5章-2', 'https://pintia.cn/problem-sets/1111652100718116864/problem-sets/1111652100718116864/problems/1163034891574829056', '图的字典表示', '20', '441', '591', '0.75'), ('编程题', '第5章-3', 'https://pintia.cn/problem-sets/1111652100718116864/problem-sets/1111652100718116864/problems/1163034891574829058', '四则运算（用字典实现）', '30', '536', '989', '0.54'), ('编程题', '第5章-4', 'https://pintia.cn/problem-sets/1111652100718116864/problem-sets/1111652100718116864/problems/1163034891574829059', '分析活动投票情况', '20', '571', '1624', '0.35'), ('编程题', '第5章-5', 'https://pintia.cn/problem-sets/1111652100718116864/problem-sets/1111652100718116864/problems/1163034891574829060', '统计字符出现次数', '20', '552', '791', '0.70'), ('编程题', '第5章-6', 'https://pintia.cn/problem-sets/1111652100718116864/problem-sets/1111652100718116864/problems/1163034891574829061', '统计工龄', '20', '512', '975', '0.53'), ('编程题', '第5章-7', 'https://pintia.cn/problem-sets/1111652100718116864/problem-sets/1111652100718116864/problems/1163034891574829062', '列表去重', '40', '638', '1948', '0.33'), ('编程题', '第5章-8', 'https://pintia.cn/problem-sets/1111652100718116864/problem-sets/1111652100718116864/problems/1163034891574829063', '能被3,5和7整除的数的个数（用集合实现）', '30', '538', '710', '0.76'), ('编程题', '第5章-9', 'https://pintia.cn/problem-sets/1111652100718116864/problem-sets/1111652100718116864/problems/1163034891574829064', '求矩阵鞍点的个数', '30', '413', '697', '0.59'), ('编程题', '第5章-10', 'https://pintia.cn/problem-sets/1111652100718116864/problem-sets/1111652100718116864/problems/1163034891574829065', '两数之和', '30', '498', '874', '0.57'), ('编程题', '第5章-11', 'https://pintia.cn/problem-sets/1111652100718116864/problem-sets/1111652100718116864/problems/1163034891574829057', '字典合并', '40', '481', '1098', '0.44'), ('编程题', '第6章-1', 'https://pintia.cn/problem-sets/1111652100718116864/problem-sets/1111652100718116864/problems/1163035698160459780', '输入列表，求列表元素和(eval输入应用）', '10', '507', '702', '0.72'), ('编程题', '第6章-2', 'https://pintia.cn/problem-sets/1111652100718116864/problem-sets/1111652100718116864/problems/1163035698160459788', '一帮一', '15', '427', '750', '0.57'), ('编程题', '第6章-3', 'https://pintia.cn/problem-sets/1111652100718116864/problem-sets/1111652100718116864/problems/1163035698160459782', '列表或元组的数字元素求和', '20', '472', '856', '0.55'), ('编程题', '第6章-4', 'https://pintia.cn/problem-sets/1111652100718116864/problem-sets/1111652100718116864/problems/1163035698160459783', '列表数字元素加权和(1)', '40', '450', '900', '0.50'), ('编程题', '第6章-5', 'https://pintia.cn/problem-sets/1111652100718116864/problem-sets/1111652100718116864/problems/1163035698160459784', '列表元素个数的加权和(1)', '40', '431', '694', '0.62'), ('编程题', '第6章-6', 'https://pintia.cn/problem-sets/1111652100718116864/problem-sets/1111652100718116864/problems/1163035698160459785', '求指定层的元素个数', '40', '428', '1217', '0.35'), ('编程题', '第6章-7', 'https://pintia.cn/problem-sets/1111652100718116864/problem-sets/1111652100718116864/problems/1163035698160459786', '找出总分最高的学生', '15', '422', '650', '0.65'), ('编程题', '第6章-8', 'https://pintia.cn/problem-sets/1111652100718116864/problem-sets/1111652100718116864/problems/1163035698160459787', ' *输出全排列（选作）', '20', '428', '600', '0.71'), ('编程题', '第7章-1', 'https://pintia.cn/problem-sets/1111652100718116864/problem-sets/1111652100718116864/problems/1163036357031092224', '词频统计', '30', '488', '1668', '0.29')]\n"
     ]
    }
   ],
   "source": [
    "import re,time\n",
    "from selenium import webdriver\n",
    "driver=webdriver.Chrome()\n",
    "def get_biaohao(html):\n",
    "    list1=[]\n",
    "    reobj = re.compile(r'<tr><td class=\"answerIcon_1du7d\"></td><td>([\\d\\D]*?)</td>')\n",
    "    for match in reobj.finditer(html):\n",
    "        biaohao=match.group(1)\n",
    "        list1.append(biaohao)\n",
    "    return list1\n",
    "def get_lianjie(html):\n",
    "    list2=[]\n",
    "    list3=[]\n",
    "    reobj = re.compile(r'<td><a href=\"([\\d\\D]*?)\"')\n",
    "    for match in reobj.finditer(html):\n",
    "        lianjie=match.group(1)\n",
    "        list2.append(lianjie)\n",
    "    for i in list2:\n",
    "        t=\"https://pintia.cn/problem-sets/1111652100718116864\"+i\n",
    "        list3.append(t)\n",
    "    return list3\n",
    "def get_biaoti(html):\n",
    "    list4=[]\n",
    "    reobj = re.compile(r'class=\"\">([\\d\\D]*?)</a>')\n",
    "    for match in reobj.finditer(html):\n",
    "        biaoti=match.group(1)\n",
    "        list4.append(biaoti)\n",
    "    return list4\n",
    "def get_fenshu(html):\n",
    "    list5=[]\n",
    "    reobj = re.compile(r\"</a></td><td>([\\d\\D]*?)</td>\")\n",
    "    for match in reobj.finditer(html):\n",
    "        fenshu=match.group(1)\n",
    "        list5.append(fenshu)\n",
    "    return list5\n",
    "def get_tongguoshu(html):\n",
    "    list6=[]\n",
    "    reobj = re.compile(r\"</a></td><td>[\\d\\D]*?</td><td>([\\d\\D]*?)</td>\")\n",
    "    for match in reobj.finditer(html):\n",
    "        tongguoshu=match.group(1)\n",
    "        list6.append(tongguoshu)\n",
    "    return list6\n",
    "def get_tijiaoshu(html):\n",
    "    list7=[]\n",
    "    reobj = re.compile(r\"</a></td><td>[\\d\\D]*?</td><td>[\\d\\D]*?</td><td>([\\d\\D]*?)</td>\")\n",
    "    for match in reobj.finditer(html):\n",
    "        tijiaoshu=match.group(1)\n",
    "        list7.append(tijiaoshu)\n",
    "    return list7\n",
    "def get_tongguolv(html):\n",
    "    list8=[]\n",
    "    reobj = re.compile(r\"</a></td><td>[\\d\\D]*?</td><td>[\\d\\D]*?</td><td>[\\d\\D]*?</td><td>([\\d\\D]*?)</td></tr>\")\n",
    "    for match in reobj.finditer(html):\n",
    "        tongguolv=match.group(1)\n",
    "        list8.append(tongguolv)\n",
    "    return list8\n",
    "urls = [(\"https://pintia.cn/problem-sets/1111652100718116864/problems/type/6\",\"函数题\"),(\"https://pintia.cn/problem-sets/1111652100718116864/problems/type/7\",\"编程题\")]\n",
    "result=[]\n",
    "for url,category in urls:\n",
    "    driver.get(url)\n",
    "    time.sleep(5)\n",
    "    html=driver.page_source\n",
    "    bh=get_biaohao(html)\n",
    "    lj=get_lianjie(html)\n",
    "    bt=get_biaoti(html)\n",
    "    fs=get_fenshu(html)\n",
    "    tgs=get_tongguoshu(html)\n",
    "    tjs=get_tijiaoshu(html)\n",
    "    tgl=get_tongguolv(html)\n",
    "    for a,b,c,d,e,f,g in zip(bh,lj,bt,fs,tgs,tjs,tgl):\n",
    "        t=(category,a,b,c,d,e,f,g)\n",
    "        result.append(t)\n",
    "print(result)"
   ]
  }
 ],
 "metadata": {
  "kernelspec": {
   "display_name": "Python 3",
   "language": "python",
   "name": "python3"
  },
  "language_info": {
   "codemirror_mode": {
    "name": "ipython",
    "version": 3
   },
   "file_extension": ".py",
   "mimetype": "text/x-python",
   "name": "python",
   "nbconvert_exporter": "python",
   "pygments_lexer": "ipython3",
   "version": "3.6.5"
  }
 },
 "nbformat": 4,
 "nbformat_minor": 4
}
