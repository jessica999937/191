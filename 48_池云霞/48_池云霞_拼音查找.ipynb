{
 "cells": [
  {
   "cell_type": "code",
   "execution_count": 24,
   "metadata": {
    "scrolled": true
   },
   "outputs": [],
   "source": [
    "from selenium import webdriver\n",
    "import time\n",
    "driver=webdriver.Chrome()\n",
    "url = 'https://www.baidu.com/'\n",
    "driver.get(url)\n",
    "\n",
    "f=open(r'F:\\桌面\\新建文本文档.txt','r')\n",
    "t=f.read()\n",
    "f.close()\n",
    "import codecs\n",
    "#写入模式\n",
    "f = codecs.open(r\"F:\\桌面\\result.csv\",\"w\",\"utf-8-sig\")\n",
    "for i in t:\n",
    "    driver.find_element_by_id(\"kw\").clear()\n",
    "    driver.find_element_by_id(\"kw\").send_keys(i+'拼音')\n",
    "    driver.find_element_by_id(\"su\").click()\n",
    "    time.sleep(3)\n",
    "    html=driver.page_source\n",
    "    import re\n",
    "    reobj = re.compile(r'<span class=\"op_exactqa_detail_word_pronounce\">([\\d\\D]*?)</span>')\n",
    "    result1 = reobj.findall(html)\n",
    "    reobj = re.compile(r\"\"\"<a class=\"op_exactqa_detail_how_read\" data-click=\"{fm:'beha'}\" url=\"([\\d\\D]*?)\" href=\"javascript:;\" onclick=\"return false;\" hidefocus=\"true\"></a>\"\"\")\n",
    "    result2 = reobj.findall(html)\n",
    "    for j in range(len(result1)):\n",
    "        f.write(i+','+result1[j]+','+result2[j]+'\\n')\n",
    "    \n",
    "f.close()"
   ]
  },
  {
   "cell_type": "code",
   "execution_count": null,
   "metadata": {},
   "outputs": [],
   "source": []
  }
 ],
 "metadata": {
  "kernelspec": {
   "display_name": "Python 3",
   "language": "python",
   "name": "python3"
  },
  "language_info": {
   "codemirror_mode": {
    "name": "ipython",
    "version": 3
   },
   "file_extension": ".py",
   "mimetype": "text/x-python",
   "name": "python",
   "nbconvert_exporter": "python",
   "pygments_lexer": "ipython3",
   "version": "3.7.3"
  }
 },
 "nbformat": 4,
 "nbformat_minor": 2
}
