{
 "cells": [
  {
   "cell_type": "code",
   "execution_count": 41,
   "metadata": {},
   "outputs": [],
   "source": [
    "from selenium import webdriver\n",
    "driver=webdriver.Chrome()\n",
    "url = 'https://pintia.cn/problem-sets/1111652100718116864/problems/type/7'\n",
    "driver.get(url)"
   ]
  },
  {
   "cell_type": "code",
   "execution_count": null,
   "metadata": {},
   "outputs": [],
   "source": [
    "import re\n",
    "import time\n",
    "list=[]\n",
    "for i in range(69):\n",
    "    bt(h)\n",
    "    driver.find_element_by_xpath(\"//div[@id='sparkling-daydream']/div[3]/div[3]/div/ul/li/a/div/div[2]\").click()\n",
    "    time.sleep(2)\n",
    "    html=driver.page_source"
   ]
  },
  {
   "cell_type": "code",
   "execution_count": null,
   "metadata": {},
   "outputs": [],
   "source": [
    "def bt(h):\n",
    "    reobj = re.compile(r'_1du7d\"></td><td>([\\d\\D]*?)</td><td>[\\d\\D]*?problem-sets/1111652100718116864/[\\d\\D]*?class=\"\">([\\d\\D]*?)</a></td><td>([\\d\\D]*?)</td><td>([\\d\\D]*?)</td><td>([\\d\\D]*?)</td><td>([\\d\\D]*?)<')\n",
    "    for match in reobj.finditer(h):\n",
    "        if i==0:\n",
    "            x=\"编程题\"\n",
    "        else:\n",
    "            x=\"函数题\"\n",
    "        tx=match.group(1)\n",
    "        bh=\"https://pintia.cn\"+match.group(2)\n",
    "        tm=match.group(3)\n",
    "        bt=match.group(4)\n",
    "        fs=match.group(5)\n",
    "        tgl=match.group(6)\n",
    "        tjs=match.group(7)\n",
    "        tgl=(tx,bh,tm,bt,fs,tgl,tjs,tal)\n",
    "        list.append(t)"
   ]
  },
  {
   "cell_type": "code",
   "execution_count": null,
   "metadata": {},
   "outputs": [],
   "source": [
    "from selenium import webdriver\n",
    "driver=webdriver.Chrome()\n",
    "url='https://pintia.cn/problem-sets/1111652100718116864/problems/1111653039147499521'\n",
    "driver.get(url)\n",
    "html=driver.page_source"
   ]
  },
  {
   "cell_type": "code",
   "execution_count": null,
   "metadata": {},
   "outputs": [],
   "source": [
    "import re\n",
    "import time\n",
    "list1=[]\n",
    "html1=[]\n",
    "for i in range(89):\n",
    "    html=driver.page_source\n",
    "    html1.append(html)\n",
    "    if i ==2:\n",
    "        list1.append(\"无\")\n",
    "    reobj = re.compile(r'<div>[\\d\\D]*?<div class=\"ques-view\"><p>([\\d\\D]*?)</p>')\n",
    "    for match in reobj.finditer(html):\n",
    "        a=match.group(1)\n",
    "        list1.append(a)\n",
    "    if i != 88:\n",
    "        driver.find_element_by_link_text(u\"下一题\").click()\n",
    "        time.sleep(5)"
   ]
  },
  {
   "cell_type": "code",
   "execution_count": null,
   "metadata": {},
   "outputs": [],
   "source": [
    "from selenium import webdriver\n",
    "driver=webdriver.Chrome()\n",
    "url='https://pintia.cn/problem-sets/1111652100718116864/problems/1163035698160459776'\n",
    "driver.get(url)\n",
    "html=driver.page_source"
   ]
  },
  {
   "cell_type": "code",
   "execution_count": null,
   "metadata": {},
   "outputs": [],
   "source": [
    "import re\n",
    "import time\n",
    "list2=[]\n",
    "html2=[]\n",
    "for i in range(6):\n",
    "    html=driver.page_source\n",
    "    html2.append(html)\n",
    "    reobj = re.compile(r'<div>[\\d\\D]*?<div class=\"ques-view\"><p>([\\d\\D]*?)</p>')\n",
    "    for match in reobj.finditer(html):\n",
    "        a=match.group(1)\n",
    "        list2.append(a)\n",
    "    if i != 5:\n",
    "        driver.find_element_by_link_text(u\"下一题\").click()\n",
    "        time.sleep(2)"
   ]
  },
  {
   "cell_type": "code",
   "execution_count": null,
   "metadata": {},
   "outputs": [],
   "source": [
    "import codecs\n",
    "for i in range(89):\n",
    "        a=html1[i]\n",
    "        f=codecs.open('f:/'+str(i)+ '.html','w','utf_8_sig')\n",
    "        f.write(a)\n",
    "        f.close()"
   ]
  },
  {
   "cell_type": "code",
   "execution_count": null,
   "metadata": {},
   "outputs": [],
   "source": [
    "import codecs\n",
    "for i in range(89):\n",
    "        a=list1[i]\n",
    "        f=codecs.open('f:/'+str(i)+ '题目.txt','w','utf_8_sig')\n",
    "        f.write(a)\n",
    "        f.close()"
   ]
  },
  {
   "cell_type": "code",
   "execution_count": null,
   "metadata": {},
   "outputs": [],
   "source": [
    "import codecs\n",
    "for i in range(6):\n",
    "        a=html1[i]\n",
    "        f=codecs.open('f:/'+str(89+i)+ '.html','w','utf_8_sig')\n",
    "        f.write(a)\n",
    "        f.close()"
   ]
  },
  {
   "cell_type": "code",
   "execution_count": null,
   "metadata": {},
   "outputs": [],
   "source": [
    "import codecs\n",
    "for i in range(6):\n",
    "        a=list2[i]\n",
    "        f=codecs.open('f:/'+str(89+i)+ '题目.txt','w','utf_8_sig')\n",
    "        f.write(a)\n",
    "        f.close()"
   ]
  },
  {
   "cell_type": "code",
   "execution_count": null,
   "metadata": {},
   "outputs": [],
   "source": [
    "import codecs\n",
    "f=codecs.open(r\"f:\\txt2.csv\",\"w\",\"utf_8_sig\")\n",
    "f.write(\"题型,标号,题目链接,标题,分数,通过数,提交数,通过率\\n\")\n",
    "for t in list:\n",
    "    f.write(t[0]+\",\"+t[1]+\",\"+t[2]+\",\"+t[3]+\",\"+t[4]+\",\"+t[5]+\",\"+t[6]+\",\"+t[7]+\"\\n\")\n",
    "f.close()"
   ]
  },
  {
   "cell_type": "code",
   "execution_count": 42,
   "metadata": {},
   "outputs": [
    {
     "name": "stdout",
     "output_type": "stream",
     "text": [
      "标号 标题 分数 通过数 提交数 通过率\n",
      "[('第6章函数-1', '使用函数求特殊a串数列和', '10', '1125', '3600', '0.31'), ('第6章函数-2', '使用函数求素数和', '20', '932', '2575', '0.36'), ('第6章函数-3', '使用函数统计指定数字的个数', '20', '836', '1568', '0.53'), ('第6章函数-4', '使用函数输出指定范围内Fibonacci数的个数 ', '20', '740', '1643', '0.45'), ('第6章函数-5', '使用函数求余弦函数的近似值', '20', '643', '1697', '0.38'), ('第6章函数-6', '缩写词', '20', '704', '1345', '0.52'), ('第6章函数-1', '使用函数求特殊a串数列和', '10', '1125', '3600', '0.31'), ('第6章函数-2', '使用函数求素数和', '20', '932', '2575', '0.36'), ('第6章函数-3', '使用函数统计指定数字的个数', '20', '836', '1568', '0.53'), ('第6章函数-4', '使用函数输出指定范围内Fibonacci数的个数 ', '20', '740', '1643', '0.45'), ('第6章函数-5', '使用函数求余弦函数的近似值', '20', '643', '1697', '0.38'), ('第6章函数-6', '缩写词', '20', '704', '1345', '0.52')]\n"
     ]
    }
   ],
   "source": [
    "import re\n",
    "html = driver.page_source\n",
    "print(\"标号\",\"标题\",\"分数\",\"通过数\",\"提交数\",\"通过率\")\n",
    "list=[]\n",
    "for i in range(2):\n",
    "    html = driver.page_source\n",
    "    reobj = re.compile(r'_1du7d\"></td><td>([\\d\\D]*?)</td><td>[\\d\\D]*?problem-sets/1111652100718116864/[\\d\\D]*?class=\"\">([\\d\\D]*?)</a></td><td>([\\d\\D]*?)</td><td>([\\d\\D]*?)</td><td>([\\d\\D]*?)</td><td>([\\d\\D]*?)<')\n",
    "    for match in reobj.finditer(html):\n",
    "        # match start: match.start()\n",
    "        # match end (exclusive): match.end()\n",
    "        # matched text: match.group()\n",
    "        bh=match.group(1)\n",
    "        bt=match.group(2)\n",
    "        fs=match.group(3)\n",
    "        tgs=match.group(4)\n",
    "        tjs=match.group(5)\n",
    "        tgl=match.group(6)\n",
    "        a=(bh,bt,fs,tgs,tjs,tgl)\n",
    "        list.append(a)\n",
    "print(list)"
   ]
  },
  {
   "cell_type": "code",
   "execution_count": 12,
   "metadata": {},
   "outputs": [
    {
     "name": "stdout",
     "output_type": "stream",
     "text": [
      "('编程题', '第7章-1', 'https://pintia.cn/problem-sets/1111652100718116864/problems/1163036357031092224', '词频统计', '30', '511', '1727', '0.30')\n"
     ]
    }
   ],
   "source": []
  },
  {
   "cell_type": "code",
   "execution_count": 7,
   "metadata": {},
   "outputs": [],
   "source": []
  },
  {
   "cell_type": "code",
   "execution_count": null,
   "metadata": {},
   "outputs": [],
   "source": []
  }
 ],
 "metadata": {
  "kernelspec": {
   "display_name": "Python 3",
   "language": "python",
   "name": "python3"
  },
  "language_info": {
   "codemirror_mode": {
    "name": "ipython",
    "version": 3
   },
   "file_extension": ".py",
   "mimetype": "text/x-python",
   "name": "python",
   "nbconvert_exporter": "python",
   "pygments_lexer": "ipython3",
   "version": "3.7.3"
  }
 },
 "nbformat": 4,
 "nbformat_minor": 2
}
