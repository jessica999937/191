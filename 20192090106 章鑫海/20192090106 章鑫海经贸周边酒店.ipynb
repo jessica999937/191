{
 "cells": [
  {
   "cell_type": "code",
   "execution_count": 3,
   "metadata": {},
   "outputs": [
    {
     "name": "stdout",
     "output_type": "stream",
     "text": [
      "ok\n"
     ]
    }
   ],
   "source": [
    "import re,os,time\n",
    "from selenium import webdriver\n",
    "driver = webdriver.Chrome()\n",
    "url = 'https://map.baidu.com/search/%E9%85%92%E5%BA%97/@13395888.6,3526321.62,16z?querytype=nb&from=webmap&c=179&wd=%E9%85%92%E5%BA%97&pn=0&nn=0&db=0&sug=0&addr=0&pl_data_type=hotel&pl_sub_type=%E9%85%92%E5%BA%97&pl_price_section=0,%2B&pl_sort_type=default&pl_sort_rule=0&pl_discount2_section=0,%2B&pl_groupon_section=0,%2B&pl_cater_book_pc_section=0,%2B&pl_hotel_book_pc_section=0,%2B&pl_ticket_book_flag_section=0,%2B&pl_movie_book_section=0,%2B&pl_business_type=hotel&da_src=shareurl&on_gel=1&src=7&gr=3&l=13&uid=7a0cb8c0d67a634683a00c28&r=1000&device_ratio=2'\n",
    "driver.get(url)\n",
    "time.sleep(10)\n",
    "html=driver.page_source\n",
    "list1 = []\n",
    "reobj = re.compile(r'data-detail-code=\"list_page\">([\\d\\D]*?)</a>[\\d\\D]*?i>([\\d\\D]*?)</span>')\n",
    "for match in reobj.finditer(html):\n",
    "    a=match.group(1)\n",
    "    b=match.group(2)\n",
    "    t=(a,b)\n",
    "    list1.append(t)\n",
    "    reobj1 = re.compile(r'<a href=\"javascript:void\\(0\\)\" tid=\"toNextPage\" ([\\d\\D]*?)\">下一页&gt;</a>')\n",
    "    c=reobj1.findall(html)\n",
    "    d=str(c)\n",
    "    if d.find(\"none\")==-1:\n",
    "        break\n",
    "    else:\n",
    "        driver.find_element_by_link_text(u\"下一页>\").click()\n",
    "        time.sleep(2)\n",
    "with open(r\"D:\\zjiet_map.csv\",\"w\",encoding=\"utf-8-sig\") as f:\n",
    "    f.write(\"酒店名称，酒店类型\\n\")\n",
    "    for i in list1:\n",
    "        f.write(i[0]+\",\"+i[1]+\",\"+\"\\n\")\n",
    "print('ok')"
   ]
  }
 ],
 "metadata": {
  "kernelspec": {
   "display_name": "Python 3",
   "language": "python",
   "name": "python3"
  },
  "language_info": {
   "codemirror_mode": {
    "name": "ipython",
    "version": 3
   },
   "file_extension": ".py",
   "mimetype": "text/x-python",
   "name": "python",
   "nbconvert_exporter": "python",
   "pygments_lexer": "ipython3",
   "version": "3.6.5"
  }
 },
 "nbformat": 4,
 "nbformat_minor": 2
}
