{
 "cells": [
  {
   "cell_type": "code",
   "execution_count": 2,
   "metadata": {
    "scrolled": true
   },
   "outputs": [
    {
     "name": "stdout",
     "output_type": "stream",
     "text": [
      "酒店名称: 速8酒店(杭州下沙金沙居店)    酒店评分: 3.9/5分    酒店类型: 经济型    地址: 杭州市江干区学正街567号金沙居B座3层\n",
      "酒店名称: TEL茶砚酒店    酒店评分: 4.2/5分    酒店类型: 酒店    地址: 学源街239号浙江经贸学院北门\n",
      "酒店名称: 杭州品江商务酒店    酒店评分: 2.7/5分    酒店类型: 舒适型    地址: 浙江省杭州市江干区学源街239号(浙江经贸学院北门)\n",
      "酒店名称: 杭州青芒酒店    酒店评分: 4.5/5分    酒店类型: 经济型    地址: 浙江省杭州市江干区学正街388号阳光创富中心10楼\n",
      "酒店名称: 杭州陌上花开2019公寓    酒店评分: /5分    酒店类型: 酒店    地址: 浙江省杭州市江干区宝龙城市广场二期\n",
      "酒店名称: 后街主题酒店    酒店评分: 4.1/5分    酒店类型: 经济型    地址: 浙江省杭州市江干区下沙学正街559号(金沙居B座)\n",
      "酒店名称: 汉庭酒店(杭州下沙学正街店)    酒店评分: 4.1/5分    酒店类型: 经济型    地址: 浙江省杭州市江干区学正街388号阳光创富中心内\n",
      "酒店名称: 微八主题酒店    酒店评分: 4.9/5分    酒店类型: 经济型    地址: 浙江省杭州市江干区经济技术开发区学正街549号金沙居A座\n",
      "酒店名称: 贝壳酒店(学正街店)    酒店评分: 4.4/5分    酒店类型: 经济型    地址: 浙江省杭州市江干区学正街539号\n",
      "酒店名称: 杭州钱塘江语公寓    酒店评分: /5分    酒店类型: 酒店    地址: 宝龙城市广场\n",
      "酒店名称: 杭州子行千里公寓(NO.3店)    酒店评分: 0.0/5分    酒店类型: 经济型    地址: 25号大街(宝龙城市广场)\n",
      "酒店名称: 杭州浙江财经大学学术中心酒店    酒店评分: 0.0/5分    酒店类型: 经济型    地址: 下沙高教园区学源路18号(浙江财经大学南大门)\n",
      "酒店名称: 派酒店(杭州下沙大学城文海南路地铁站店)    酒店评分: 4.8/5分    酒店类型: 经济型    地址: 浙江省杭州市江干区学正街386号阳光创富中心\n",
      "酒店名称: 杭州轩鹏精选酒店(高沙学林街店)    酒店评分: 4.9/5分    酒店类型: 经济型    地址: 浙江省杭州市江干区下沙经济开发区学林街621号\n",
      "酒店名称: 杭州歌多酒店    酒店评分: 4.3/5分    酒店类型: 经济型    地址: 金沙居学正街535号\n",
      "酒店名称: 杭州森屿公寓(学正街分店)    酒店评分: 4.8/5分    酒店类型: 酒店    地址: 浙江省杭州市江干区下沙25号大街与2号大街交叉口永辉超市楼上\n",
      "酒店名称: 杭州尚爱快捷酒店(下沙学正街店)    酒店评分: 3.2/5分    酒店类型: 经济型    地址: 浙江省杭州市江干区下沙经济技术开发区学正街575号学正街金沙居B座1层\n",
      "酒店名称: 杭州周末轰趴馆公寓    酒店评分: /5分    酒店类型: 酒店    地址: 浙江省杭州市江干区文瀚路下沙宝龙城市广场29幢\n",
      "酒店名称: 祥平快捷酒店    酒店评分: 2.4/5分    酒店类型: 经济型    地址: 浙江省杭州市江干区学正街879号\n",
      "酒店名称: 杭州子行千里公寓(NO.4店)    酒店评分: /5分    酒店类型: 酒店    地址: 浙江省杭州市江干区25号大街\n",
      "酒店名称: 杭州汉典精品酒店    酒店评分: 1.0/5分    酒店类型: 经济型    地址: 浙江省杭州市江干区下沙经济开发区学正街545号金沙居A座\n",
      "酒店名称: 拓博精品酒店    酒店评分: 3.9/5分    酒店类型: 经济型    地址: 浙江省杭州市江干区经济技术开发区学正街553号\n",
      "酒店名称: 枫林晚精品酒店    酒店评分: 3.6/5分    酒店类型: 经济型    地址: 浙江省杭州市江干区下沙经济开发区学林街628号(清雅苑对面，理工大学东一百米)\n",
      "酒店名称: 财林宾馆    酒店评分: 3.8/5分    酒店类型: 经济型    地址: 浙江省杭州市江干区学林街605号\n",
      "酒店名称: 浙江供销客房部    酒店评分: /5分    酒店类型: 酒店    地址: 杭州市江干区\n",
      "酒店名称: 卡尔酒店    酒店评分: 3.0/5分    酒店类型: 经济型    地址: 浙江省杭州市江干区下沙金沙居学正街561号\n",
      "酒店名称: 杭州迈卡威途公寓    酒店评分: /5分    酒店类型: 酒店    地址: 浙江省杭州市江干区杭州下沙学正街388号阳光华城华景园2栋\n",
      "酒店名称: 杭州奶茶窝窝公寓(NO.5店)    酒店评分: /5分    酒店类型: 酒店    地址: 浙江省杭州市江干区金沙居\n",
      "酒店名称: 杭州刘婷婷复式    酒店评分: 5.0/5分    酒店类型: 宾馆    地址: 浙江省杭州市江干区宝龙城市广场2期29幢701\n",
      "酒店名称: 杭州财苑大酒店    酒店评分: 0.0/5分    酒店类型: 酒店    地址: 杭州市江干区学源街18号\n",
      "酒店名称: 杭州你好呀晓家公寓    酒店评分: 0.0/5分    酒店类型: 民宿    地址: 浙江省杭州市江干区文瀚路159号\n",
      "酒店名称: 杭州小月家公寓(NO.2店)    酒店评分: 0.0/5分    酒店类型: 民宿    地址: 浙江省杭州市江干区下沙宝龙城市广场29幢\n",
      "酒店名称: 宿品生活公寓(NO.3号店)    酒店评分: 0.0/5分    酒店类型: 民宿    地址: 浙江省杭州市江干区下沙宝龙城市广场29幢\n",
      "酒店名称: 雅津宾馆    酒店评分: 3.6/5分    酒店类型: 经济型    地址: 浙江省杭州市江干区杭州经济开发区文津路49号\n",
      "酒店名称: 杭州城管驿站(钱塘新区公园站)    酒店评分: /5分    酒店类型: 酒店    地址: 浙江省杭州市江干区学林街4号附近\n",
      "酒店名称: 舒泊豪大酒店    酒店评分: 4.2/5分    酒店类型: 舒适型    地址: 浙江省杭州市江干区学正街66号\n",
      "酒店名称: 三谊大酒店    酒店评分:     酒店类型: 经济型    地址: 杭州市江干区德胜东路与千帆路交叉路口向西约100米\n",
      "酒店名称: 杭州怡然之家酒店式公寓(学正街二十五号路口店)    酒店评分: 4.9/5分    酒店类型: 民宿    地址: 浙江省杭州市江干区学正街A、B座\n",
      "酒店名称: 杭州燕子swallow公寓    酒店评分: 0.0/5分    酒店类型: 民宿    地址: 杭州江干区阳光华城华翠园3幢2单元107室\n",
      "酒店名称: 杭州敬往事一杯酒公寓    酒店评分: 0.0/5分    酒店类型: 民宿    地址: 浙江省杭州江干区学正街567金沙居-B座\n",
      "酒店名称: 杭州嗨吧666旅馆    酒店评分: 0.0/5分    酒店类型: 经济型    地址: 浙江省杭州市江干区金沙居B座1601室(浙江工商大学正校门旁边500米处)\n",
      "酒店名称: 杭州栖缘精品民宿(NO.14店)    酒店评分: 4.4/5分    酒店类型: 民宿    地址: 杭州江干区宝龙城市广场30幢1508室\n",
      "酒店名称: 江畔一家公寓    酒店评分: 0.0/5分    酒店类型: 民宿    地址: 杭州江干区下沙宝龙城市广场17幢17幢1918\n",
      "酒店名称: 胖丁公寓    酒店评分: 0.0/5分    酒店类型: 民宿    地址: 杭州江干区宝龙城市广场17幢1单元319室\n",
      "酒店名称: 小月家公寓    酒店评分: 0.0/5分    酒店类型: 民宿    地址: 杭州江干区下沙宝龙广场17幢20楼2011室\n",
      "酒店名称: 浙江工商大学专家楼    酒店评分: 0.0/5分    酒店类型: 教育培训    地址: 浙江省杭州市江干区27号路301\n"
     ]
    }
   ],
   "source": [
    "from selenium import webdriver\n",
    "from pyquery import PyQuery as pq\n",
    "import time\n",
    "driver=webdriver.Chrome()\n",
    "url = 'https://map.baidu.com/search/%E9%85%92%E5%BA%97/@13401816.6,3523321.62,16z?querytype=nb&r=1000&c=179&wd=%E9%85%92%E5%BA%97&nbtp=2&nb_x=13401816.6&nb_y=3523321.62&pl_hotel_book_pc_section=0,%2B&pl_data_type=hotel&pl_sub_type=%E9%85%92%E5%BA%97&pl_price_section=0,%2B&pl_sort_type=default&pl_sort_rule=0&pl_discount2_section=0,%2B&pl_groupon_section=0,%2B&pl_cater_book_pc_section=0,%2B&pl_ticket_book_flag_section=0,%2B&pl_movie_book_section=0,%2B&pl_business_type=hotel&reserveReturnCard=true&from=webmap&query=%E9%85%92%E5%BA%97&qid=8345681453648909512&page_num=0&uid=7a0cb8c0d67a634683a00c28&b=(13398740.6,3521821.62;13404892.6,3524821.62)&biz_forward=%7B%22scaler%22:2,%22styles%22:%22pl%22%7D&l=16&gr_radius=1000&pn=0&device_ratio=2&da_src=shareurl'\n",
    "driver.get(url)\n",
    "list1=[]\n",
    "html = driver.page_source\n",
    "def check_is_gray(html):\n",
    "    is_gray = False\n",
    "    import re\n",
    "    reobj = re.compile(r'href=\"javascript:void([\\d\\D]*?)tid=\"([\\d\\D]*?)onclick=\"Instance([\\d\\D]*?)toPage([\\d\\D]*?);return false;\">下一页&gt;</a>')\n",
    "    list1 = []\n",
    "    for match in reobj.finditer(html):\n",
    "        list1.append(match.group(0))\n",
    "    if len(list1) > 0 :\n",
    "        is_gray = True\n",
    "    return is_gray\n",
    "while True:\n",
    "    html = driver.page_source\n",
    "    doc = pq(html)\n",
    "    table = doc('.content tbody')\n",
    "    table.find('script').remove()\n",
    "    list_cont = table('tr').items() \n",
    "    time.sleep(5)\n",
    "    for i in list_cont:\n",
    "        univ = (i.text()).split()\n",
    "        print(univ)\n",
    "        BJuniv.append(univ)\n",
    "    import re\n",
    "    match = re.search(r'<div class=\"poi-wrapper\">([\\s\\S]*?)<div id=\"leadDownloadCard\"></div>', html, re.MULTILINE)\n",
    "    result = \"\"\n",
    "    if match:\n",
    "        result = match.group(0)\n",
    "    html = result\n",
    "    reobj = re.compile(r'data-detail-code=\"list_page\">([\\s\\S]*?)</a>[\\s\\S]*?<span>([\\s\\S]*?)<([\\s\\S]*?)\\|</i>([\\s\\S]*?)</span>([\\s\\S]*?)<span class=\"n-grey\" title=\"([\\s\\S]*?)\">([\\s\\S]*?)</span>', re.MULTILINE)\n",
    "    for match in reobj.finditer(html):\n",
    "        a=match.group(2)\n",
    "        b=match.group(4)\n",
    "        print(\"酒店名称:\",match.group(1),\"  \",\"酒店评分:\",a.strip(),\"  \",\"酒店类型:\",b.strip(),\"  \",\"地址:\",match.group(6))\n",
    "        str1=(match.group(1),a.strip(),b.strip(),match.group(6))\n",
    "        list1.append(str1)\n",
    "        is_gray = check_is_gray(html)   \n",
    "    if check_is_gray(html)==False:\n",
    "        break\n",
    "    else:\n",
    "        xiayiye = driver.find_element_by_xpath('//a[contains(text(),\"下一页\")]')\n",
    "        xiayiye.click()"
   ]
  },
  {
   "cell_type": "code",
   "execution_count": 3,
   "metadata": {},
   "outputs": [],
   "source": [
    "import csv\n",
    "csvfile = open('10_潘焕鑫_ex2.csv', 'w',newline='')\n",
    "writer = csv.writer(csvfile)\n",
    "writer.writerow(['酒店名称', '酒店评分', '酒店类型','地址'])\n",
    "data = list1\n",
    "writer.writerows(data)\n",
    "csvfile.close()"
   ]
  },
  {
   "cell_type": "code",
   "execution_count": null,
   "metadata": {},
   "outputs": [],
   "source": []
  }
 ],
 "metadata": {
  "kernelspec": {
   "display_name": "Python 3",
   "language": "python",
   "name": "python3"
  },
  "language_info": {
   "codemirror_mode": {
    "name": "ipython",
    "version": 3
   },
   "file_extension": ".py",
   "mimetype": "text/x-python",
   "name": "python",
   "nbconvert_exporter": "python",
   "pygments_lexer": "ipython3",
   "version": "3.6.5"
  }
 },
 "nbformat": 4,
 "nbformat_minor": 2
}
