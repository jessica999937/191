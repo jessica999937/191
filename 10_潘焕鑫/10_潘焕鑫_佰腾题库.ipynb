{
 "cells": [
  {
   "cell_type": "markdown",
   "metadata": {},
   "source": [
    "# https://www.yuque.com/ol1q37/gi94xp/uhqfah\n",
    "# https://www.yuque.com/ol1q37/gi94xp/vy59wr"
   ]
  },
  {
   "cell_type": "markdown",
   "metadata": {},
   "source": [
    "# 函数部分"
   ]
  },
  {
   "cell_type": "code",
   "execution_count": 12,
   "metadata": {},
   "outputs": [],
   "source": [
    "def get_html(a):#解析网址顺便设置抽取语句\n",
    "    from selenium import webdriver\n",
    "    driver=webdriver.Chrome()\n",
    "    driver.get(a)\n",
    "    html = driver.page_source\n",
    "    import re\n",
    "    #global match\n",
    "    match = re.search(r'<div class=\"main_27Lme\">([\\d\\D]*?)</span></div></div>', html, re.MULTILINE)#要抽取的范围，正则匹配的内容需要在这范围里\n",
    "    result = \"\"\n",
    "    if match:\n",
    "        result = match.group(0)\n",
    "    html = result\n",
    "    global reobj\n",
    "    reobj = re.compile(r'<td>([\\d\\D]*?)</td><td><a href=\"([\\d\\D]*?)\" class=\"\">([\\d\\D]*?)</a></td><td>([\\d\\D]*?)</td><td>([\\d\\D]*?)</td><td>([\\d\\D]*?)</td><td>([\\d\\D]*?)</td></tr>', re.MULTILINE)\n",
    "    return html\n",
    "#以下为收集\n",
    "def get_biaohao(html):\n",
    "    for match in reobj.finditer(html):\n",
    "        a=match.group(1)#标号\n",
    "        list0.append(a)\n",
    "    return list0\n",
    "def get_wangzhi(html):\n",
    "    for match in reobj.finditer(html):\n",
    "        b=match.group(2)#url\n",
    "        list1.append(\"https://pintia.cn\"+b)\n",
    "    return list1\n",
    "def get_biaoti(html):\n",
    "    for match in reobj.finditer(html):\n",
    "        c=match.group(3)#标题\n",
    "        list2.append(c)\n",
    "    return list2\n",
    "def get_fenshu(html):\n",
    "    for match in reobj.finditer(html):\n",
    "        d=match.group(4)#分数\n",
    "        list3.append(d)\n",
    "    return list3\n",
    "def get_tongguoshu(html):\n",
    "    for match in reobj.finditer(html):\n",
    "        e=match.group(5)#通过数\n",
    "        list4.append(e)\n",
    "    return list4\n",
    "def get_tijiaoshu(html):\n",
    "    for match in reobj.finditer(html):\n",
    "        f=match.group(6)#提交数\n",
    "        list5.append(f)\n",
    "    return list5\n",
    "def get_tongguolv(html):\n",
    "    for match in reobj.finditer(html):\n",
    "        g=match.group(7)#通过率\n",
    "        list6.append(g)\n",
    "    return list6\n",
    "def extract_info(html,t):#综合应用并保存入results\n",
    "    global list0,list1,list2,list3,list4,list5,list6\n",
    "    list0=[]\n",
    "    list1=[]\n",
    "    list2=[]\n",
    "    list3=[]\n",
    "    list4=[]\n",
    "    list5=[]\n",
    "    list6=[]\n",
    "    biaohao = get_biaohao(html) # ['第6章函数-1', '第6章函数-2', '第6章函数-3', '第6章函数-4', '第6章函数-5', '第6章函数-6']\n",
    "    biaoti = get_biaoti(html)\n",
    "    fenshu = get_fenshu(html)\n",
    "    tongguoshu = get_tongguoshu(html)\n",
    "    tijiaoshu = get_tijiaoshu(html)\n",
    "    tongguolv = get_tongguolv(html)\n",
    "    wangzhi = get_wangzhi(html)\n",
    "    types = [t[1]]*len(biaohao) # ['函数题', '函数题', '函数题', '函数题', '函数题', '函数题']\n",
    "    results = []\n",
    "    for a,b,c,d,e,f,g,h in zip(biaohao,biaoti,fenshu,tongguoshu,tijiaoshu,tongguolv,wangzhi,types):\n",
    "        results.append((a,b,c,d,e,f,g,h))\n",
    "    return results\n",
    "def save2csv(results):#保存数据为csv文件\n",
    "    import codecs\n",
    "    f = codecs.open(\"D:\\\\ex5_new.csv\",\"w\",\"utf-8-sig\")\n",
    "    for result in results:\n",
    "        f.write(\",\".join(result)+\"\\n\")\n",
    "    f.close()\n",
    "def save_htmls(urls,filename):#分别保存为html\n",
    "    for idx,url in enumerate(urls):\n",
    "        driver.get(url)\n",
    "        time.sleep(3)\n",
    "        html = driver.page_source\n",
    "        f = codecs.open(str(filename[idx]).replace('*','_')+\".html\",\"w\",\"utf-8-sig\")\n",
    "        f.write(html)\n",
    "        f.close()        "
   ]
  },
  {
   "cell_type": "markdown",
   "metadata": {},
   "source": [
    "# part1  正则表达式循环抽取"
   ]
  },
  {
   "cell_type": "code",
   "execution_count": 13,
   "metadata": {},
   "outputs": [],
   "source": [
    "urls = [(\"https://pintia.cn/problem-sets/1111652100718116864/problems/type/6\",\"函数题\"),\n",
    "        (\"https://pintia.cn/problem-sets/1111652100718116864/problems/type/7\",\"编程题\")]\n",
    "#遍历循环这些链接，将结果存放在results中\n",
    "results = []\n",
    "for t in urls:\n",
    "    html = get_html(t[0])\n",
    "    li = extract_info(html,t)\n",
    "    results.extend(li)\n",
    "#将results中的数据持久化到csv文件中\n",
    "save2csv(results)"
   ]
  },
  {
   "cell_type": "markdown",
   "metadata": {},
   "source": [
    "# part2  保存为html"
   ]
  },
  {
   "cell_type": "code",
   "execution_count": null,
   "metadata": {},
   "outputs": [],
   "source": [
    "save_htmls(list1,list2)"
   ]
  },
  {
   "cell_type": "markdown",
   "metadata": {},
   "source": [
    "# part3 数据库"
   ]
  },
  {
   "cell_type": "code",
   "execution_count": 3,
   "metadata": {},
   "outputs": [],
   "source": [
    "import sqlite3\n",
    "import os\n",
    "\n",
    "current_address = os.path.abspath('.')\n",
    "db_address = os.path.join(current_address, \"ceshi.db\")\n",
    "tbl_name = \"shujubiao\"\n",
    "if os.path.exists(db_address):\n",
    "    os.remove(db_address)\n",
    "\n"
   ]
  },
  {
   "cell_type": "code",
   "execution_count": 16,
   "metadata": {},
   "outputs": [],
   "source": [
    "conn = sqlite3.connect(db_address)\n",
    "cur = conn.cursor()\n",
    "sql = 'CREATE TABLE \"%s\" (biaohao CHAR(25),biaoti CHAR(25),fenshu CHAR(25),tongguoshu CHAR(25),tijiaoshu CHAR(25),tongguolv CHAR(25),wangzhi CHAR(50),type CHAR(25))' % str(tbl_name)\n",
    "cur.execute(sql)\n",
    "conn.commit()\n",
    "for i in results:\n",
    "    sql = 'INSERT INTO shujubiao(biaohao,biaoti,fenshu,tongguoshu,tijiaoshu,tongguolv,wangzhi,type) VALUES(\"%s\",\"%s\",\"%s\",\"%s\",\"%s\",\"%s\",\"%s\",\"%s\")' % i\n",
    "    cur.execute(sql)\n",
    "conn.commit()\n",
    "conn.close()"
   ]
  },
  {
   "cell_type": "code",
   "execution_count": null,
   "metadata": {},
   "outputs": [],
   "source": []
  }
 ],
 "metadata": {
  "kernelspec": {
   "display_name": "Python 3",
   "language": "python",
   "name": "python3"
  },
  "language_info": {
   "codemirror_mode": {
    "name": "ipython",
    "version": 3
   },
   "file_extension": ".py",
   "mimetype": "text/x-python",
   "name": "python",
   "nbconvert_exporter": "python",
   "pygments_lexer": "ipython3",
   "version": "3.6.5"
  }
 },
 "nbformat": 4,
 "nbformat_minor": 2
}
