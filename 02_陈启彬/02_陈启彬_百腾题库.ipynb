{
 "cells": [
  {
   "cell_type": "markdown",
   "metadata": {},
   "source": [
    "# 示例\n",
    "### 任务链接：https://www.yuque.com/ol1q37/gi94xp/vy59wr\n",
    "### 参考链接：https://pintia.cn/problem-sets/1111652100718116864/problems/type/6\n",
    "###           https://pintia.cn/problem-sets/1111652100718116864/problems/type/7\n",
    "### 1）存储所有要采集页面的完整html\n",
    "### 2）编写代码完成数据的抽取\n",
    "### 3）设计数据库表结构（包括标号、标题、分数、通过数、提交数、通过率、题目内容、完整html、题型（编程题 、函数题），题目详情页链接）\n",
    "### 4）存储到sqlite数据库中"
   ]
  },
  {
   "cell_type": "markdown",
   "metadata": {},
   "source": [
    "## 解题思路：分别编写获取列表页和详情页的函数，最后存储到数据库中"
   ]
  },
  {
   "cell_type": "code",
   "execution_count": null,
   "metadata": {},
   "outputs": [],
   "source": [
    "import re,time\n",
    "from selenium import webdriver\n",
    "\n",
    "def extract_list_info(url,category):\n",
    "    driver = webdriver.Chrome()\n",
    "    driver.get(url)\n",
    "    time.sleep(5)#缓冲5秒\n",
    "    html = driver.page_source#获取源代码\n",
    "    result = []\n",
    "    reobj = re.compile(r'<tr><td class=\"answerIcon_1du7d\"></td><td>([\\d\\D]*?)</td><td><a href=\"([\\d\\D]*?)\" class=\"\">([\\d\\D]*?)</a></td><td>([\\d\\D]*?)</td><td>([\\d\\D]*?)</td><td>([\\d\\D]*?)</td><td>([\\d\\D]*?)</td></tr>')\n",
    "    for match in reobj.finditer(html):#获取列表页的标号、链接、标题、分数、通过数、提交数、通过率\n",
    "        biaohao = match.group(1)\n",
    "        lianjie = \"https://pintia.cn\" + match.group(2)\n",
    "        biaoti = match.group(3)\n",
    "        fenshu = match.group(4)\n",
    "        tongguoshu = match.group(5)\n",
    "        tijiaoshu = match.group(6)\n",
    "        tongguolv = match.group(7)\n",
    "        result.append((category,biaohao,lianjie,biaoti,fenshu,tongguoshu,tijiaoshu,tongguolv))\n",
    "    return result#返回元组列表\n",
    "\n",
    "def extract_detail_info(results):\n",
    "    list1 = []\n",
    "    final_result = []\n",
    "    for i in results:\n",
    "        url1=i[2]#从中获取出链接\n",
    "        driver=webdriver.Chrome()\n",
    "        driver.get(url1)\n",
    "        time.sleep(5)#缓冲5秒\n",
    "        html1=driver.page_source#获取网页源代码\n",
    "        reobj = re.compile(r'<div class=\"text-center black-3 text-4 font-weight-bold my-3\">([\\d\\D]*?)<div class=\"problemInfo_OZ-Rv\"><div class=\"d-flex flex-none align-items-center item_5Oc1c\"><div class=\"label_13jiU\">')\n",
    "        for match in reobj.finditer(html1):\n",
    "            list1.append(match.group(1))\n",
    "    for x,y in zip(results,list1):#将详情页的内容与列表页内容拼接\n",
    "        final_result.append((x,y))\n",
    "    return final_result#返回元组列表\n",
    "\n",
    "final_results = []\n",
    "urls = [(\"https://pintia.cn/problem-sets/1111652100718116864/problems/type/6\",\"函数题\"),(\"https://pintia.cn/problem-sets/1111652100718116864/problems/type/7\",\"编程题\")]\n",
    "for url,category in urls:   \n",
    "    results = extract_list_info(url,category)#获取列表页的内容\n",
    "    results = extract_detail_info(results)#获取详情页面的内容,并且与列表信息合并\n",
    "    final_result.extend(results)\n",
    "\n",
    "from pony.orm import *\n",
    "\n",
    "\n",
    "db = Database()   #创建数据库对象\n",
    "\n",
    "\n",
    "class Ttitle(db.Entity):\n",
    "    lx = Optional(str)\n",
    "    bh = PrimaryKey(str, auto=True)\n",
    "    url = Optional(str)\n",
    "    bt = Optional(str)\n",
    "    fs = Optional(str)\n",
    "    tgs = Optional(str)\n",
    "    tjs = Optional(str)\n",
    "    tgl = Optional(str)\n",
    "    sj = Optional(str)\n",
    "\n",
    "\n",
    "\n",
    "#db.generate_mapping()\n",
    "db.bind(provider='sqlite', filename='D:/code2020/program.sqlite')#provider是数据库的类型,filename是文件的路径\n",
    "\n",
    "db.generate_mapping(create_tables=True)\n",
    "#将实体映射到数据库表,参数create_tables = True表示如果实体指向的表尚不存在，则使用CREATE TABLE命令创建它们。必须在调用generate_mapping（）方法之前定义连接到数据库的所有实体。\n",
    "\n",
    "set_sql_debug(True)\n",
    "#调试模式,使用set_sql_debug（）函数，您可以看到Pony发送到数据库的SQL命令。\n",
    "for x in final_results:#循环写入到program.sqlite文件中去\n",
    "    s = Ttitle(lx=x[0],bh=x[1],url=x[2],bt=x[3],fs=x[4],tgs=x[5],tjs=x[6],tgl=x[7],sj=x[8])\n",
    "    db.commit()\n",
    "    #Pony不会立即在数据库中保存对象。只有在调用commit()函数后才会保存这些对象。如果打开调试模式，那么在commit（）期间，您将看到发送到数据库的五个insert命令。"
   ]
  }
 ],
 "metadata": {
  "kernelspec": {
   "display_name": "Python 3",
   "language": "python",
   "name": "python3"
  },
  "language_info": {
   "codemirror_mode": {
    "name": "ipython",
    "version": 3
   },
   "file_extension": ".py",
   "mimetype": "text/x-python",
   "name": "python",
   "nbconvert_exporter": "python",
   "pygments_lexer": "ipython3",
   "version": "3.7.6"
  }
 },
 "nbformat": 4,
 "nbformat_minor": 4
}
