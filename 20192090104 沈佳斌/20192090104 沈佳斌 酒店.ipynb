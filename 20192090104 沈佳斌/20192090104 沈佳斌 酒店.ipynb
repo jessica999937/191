{
 "cells": [
  {
   "cell_type": "code",
   "execution_count": 2,
   "metadata": {},
   "outputs": [],
   "source": [
    "import re,time\n",
    "from selenium import webdriver\n",
    "driver = webdriver.Chrome()\n",
    "url = 'https://map.baidu.com/search/%E9%85%92%E5%BA%97/@13401816.6,3523321.62,11.91z?querytype=nb&from=webmap&c=179&wd=%E9%85%92%E5%BA%97&pn=0&nn=0&db=0&sug=0&addr=0&pl_data_type=hotel&pl_sub_type=%E9%85%92%E5%BA%97&pl_price_section=0,%2B&pl_sort_type=default&pl_sort_rule=0&pl_discount2_section=0,%2B&pl_groupon_section=0,%2B&pl_cater_book_pc_section=0,%2B&pl_hotel_book_pc_section=0,%2B&pl_ticket_book_flag_section=0,%2B&pl_movie_book_section=0,%2B&pl_business_type=hotel&da_src=shareurl&on_gel=1&src=7&gr=3&l=11.911834556181791&uid=7a0cb8c0d67a634683a00c28&r=1000&device_ratio=2'\n",
    "driver.get(url)\n",
    "time.sleep(1)"
   ]
  },
  {
   "cell_type": "code",
   "execution_count": 5,
   "metadata": {},
   "outputs": [],
   "source": [
    "list1 = []\n",
    "while True:\n",
    "    html = driver.page_source\n",
    "    time.sleep(2)\n",
    "    reobj = re.compile(r'<a href=\"javascript:void\\(0\\)\" class=\"n-blue\" data-index=\"1\" data-stat-code=\"poisearch\\.hotel\\.title\" data-detail-code=\"list_page\">([\\d\\D]*?)</a>')\n",
    "    for match in reobj.finditer(html):\n",
    "        m = match.group(1)\n",
    "        list1.append(m)\n",
    "    reobj1 = re.compile(r'<a href=\"javascript:void\\(0\\)\" tid=\"toNextPage\"(.*)?\">下一页&gt;</a>')\n",
    "    for match in reobj1.finditer(html):\n",
    "        a = match.group(1)\n",
    "    if len(a)<30:\n",
    "        break\n",
    "    else:\n",
    "        driver.find_element_by_link_text(u\"下一页>\").click()\n",
    "        time.sleep(2)"
   ]
  },
  {
   "cell_type": "code",
   "execution_count": null,
   "metadata": {},
   "outputs": [],
   "source": [
    "import codecs\n",
    "f = codecs.open(r\"D:\\hotel.csv\",\"w\",\"utf-8-sig\")\n",
    "f.write(\"hotel\\n\")\n",
    "for i in list1:\n",
    "    f.write(i+\"\\n\")\n",
    "f.close()"
   ]
  }
 ],
 "metadata": {
  "kernelspec": {
   "display_name": "Python 3",
   "language": "python",
   "name": "python3"
  },
  "language_info": {
   "codemirror_mode": {
    "name": "ipython",
    "version": 3
   },
   "file_extension": ".py",
   "mimetype": "text/x-python",
   "name": "python",
   "nbconvert_exporter": "python",
   "pygments_lexer": "ipython3",
   "version": "3.6.5"
  }
 },
 "nbformat": 4,
 "nbformat_minor": 2
}
