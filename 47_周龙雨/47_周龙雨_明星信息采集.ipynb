{
 "cells": [
  {
   "cell_type": "code",
   "execution_count": 2,
   "metadata": {},
   "outputs": [],
   "source": [
    "from selenium import webdriver\n",
    "import re\n",
    "driver=webdriver.Chrome()\n",
    "url = 'https://www.baidu.com/s?wd=%E6%98%8E%E6%98%9F&rsv_spt=1&rsv_iqid=0xbe4b76860031fb66&issp=1&f=8&rsv_bp=1&rsv_idx=2&ie=utf-8&rqlang=&tn=baiduhome_pg&ch=&rsv_enter=1&rsv_dl=ib&inputT=2978'\n",
    "driver.get(url)\n",
    "html = driver.page_source"
   ]
  },
  {
   "cell_type": "code",
   "execution_count": 3,
   "metadata": {},
   "outputs": [],
   "source": [
    "import time\n",
    "driver.find_element_by_xpath(\"//div[@id='1']/div/div/div/div[2]/p/span[4]\").click()\n",
    "time.sleep(2)\n",
    "driver.find_element_by_xpath(\"//div[@id='1']/div/div/div/div[2]/p[2]/span[3]\").click()"
   ]
  },
  {
   "cell_type": "code",
   "execution_count": null,
   "metadata": {},
   "outputs": [],
   "source": [
    "import re\n",
    "import time\n",
    "time.sleep(2)\n",
    "\n",
    "list=[]\n",
    "while True:\n",
    "    reobj = re.compile(r'<p class=\"op_exactqa_item_img\"><a href=([\\d\\D]*?) title=\"([\\d\\D]*?)\" target=\"_blank\"><img class=\"c-img c-img4\" src=([\\d\\D]*?)></a></p>')\n",
    "    for match in reobj.finditer(html):\n",
    "        a=match.group(1)#明星链接\n",
    "        b=match.group(2)#明星姓名\n",
    "        c=match.group(3)#明星图片\n",
    "        c=(b,c,a)\n",
    "        list.append(c)\n",
    "\n",
    "\n",
    "if re.search(\"\"\"<span class=\"opui-page-next OP_LOG_BTN\" style=\"\">下一页</span>\"\"\", html): \n",
    "    driver.find_element_by_xpath(\"//div[@id='1']/div/div/div[2]/div[2]/p/span[6]\").click()\n",
    "else:\n",
    "    print(\"采集完毕\")\n",
    "print(list)"
   ]
  },
  {
   "cell_type": "code",
   "execution_count": null,
   "metadata": {},
   "outputs": [],
   "source": [
    "import codecs\n",
    "f = codecs.open(\"D:\\\\明星信息采集.csv\",\"w\",\"utf-8-sig\")             \n",
    "for i in list:\n",
    "    f.write(\",\".join(i)+\"\\n\")\n",
    "f.close()  "
   ]
  }
 ],
 "metadata": {
  "kernelspec": {
   "display_name": "Python 3",
   "language": "python",
   "name": "python3"
  },
  "language_info": {
   "codemirror_mode": {
    "name": "ipython",
    "version": 3
   },
   "file_extension": ".py",
   "mimetype": "text/x-python",
   "name": "python",
   "nbconvert_exporter": "python",
   "pygments_lexer": "ipython3",
   "version": "3.7.1"
  }
 },
 "nbformat": 4,
 "nbformat_minor": 2
}
