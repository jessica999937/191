{
 "cells": [
  {
   "cell_type": "code",
   "execution_count": 1,
   "metadata": {},
   "outputs": [],
   "source": [
    "from selenium import webdriver\n",
    "driver=webdriver.Chrome()\n",
    "url ='https://map.baidu.com/search/%E9%85%92%E5%BA%97/@13401816.6,3523321.62,17z?querytype=nb&r=1000&wd=%E9%85%92%E5%BA%97&nb_x=13401816.60&nb_y=3523321.62&uid=7a0cb8c0d67a634683a00c28&b=(13400809.909611505,3522782.19066226;13402823.09336229,3524093.869264365)&l=17&gr_radius=1000&pn=0&device_ratio=2&da_src=shareurl'\n",
    "driver.get(url)\n"
   ]
  },
  {
   "cell_type": "code",
   "execution_count": 2,
   "metadata": {},
   "outputs": [
    {
     "name": "stdout",
     "output_type": "stream",
     "text": [
      "[('浙江供销客房部', '                    /5分', '酒店                ', '杭州市江干区'), ('速8酒店(杭州下沙金沙居店)', '                    3.9/5分', '经济型                ', '杭州市江干区学正街567号金沙居B座3层'), ('杭州尚爱快捷酒店(下沙学正街店)', '                    3.2/5分', '经济型                ', '浙江省杭州市江干区下沙经济技术开发区学正街575号学正街金沙居B座1层'), ('TEL茶砚酒店', '                    4.1/5分', '舒适型                ', '学源街239号浙江经贸学院北门'), ('杭州青芒酒店', '                    4.6/5分', '经济型                ', '浙江省杭州市江干区学正街388号阳光创富中心10楼'), ('后街主题酒店', '                    4.1/5分', '经济型                ', '浙江省杭州市江干区下沙学正街559号(金沙居B座)'), ('沙城旅馆', '                    2.5/5分', '经济型                ', '杭州市江干区２５号大街与６号大街交叉路口往北约100米(金沙学府)'), ('贝壳酒店(学正街店)', '                    4.5/5分', '经济型                ', '浙江省杭州市江干区学正街539号'), ('杭州陌上花开2019公寓', '                    5.0/5分', '酒店                ', '浙江省杭州市江干区宝龙城市广场二期'), ('杭州钱塘江语公寓', '                    0.0/5分', '经济型                ', '宝龙城市广场'), ('浙江供销客房部', '                    /5分', '酒店                ', '杭州市江干区'), ('速8酒店(杭州下沙金沙居店)', '                    3.9/5分', '经济型                ', '杭州市江干区学正街567号金沙居B座3层'), ('杭州尚爱快捷酒店(下沙学正街店)', '                    3.2/5分', '经济型                ', '浙江省杭州市江干区下沙经济技术开发区学正街575号学正街金沙居B座1层'), ('TEL茶砚酒店', '                    4.1/5分', '舒适型                ', '学源街239号浙江经贸学院北门'), ('杭州青芒酒店', '                    4.6/5分', '经济型                ', '浙江省杭州市江干区学正街388号阳光创富中心10楼'), ('后街主题酒店', '                    4.1/5分', '经济型                ', '浙江省杭州市江干区下沙学正街559号(金沙居B座)'), ('沙城旅馆', '                    2.5/5分', '经济型                ', '杭州市江干区２５号大街与６号大街交叉路口往北约100米(金沙学府)'), ('贝壳酒店(学正街店)', '                    4.5/5分', '经济型                ', '浙江省杭州市江干区学正街539号'), ('杭州陌上花开2019公寓', '                    5.0/5分', '酒店                ', '浙江省杭州市江干区宝龙城市广场二期'), ('杭州钱塘江语公寓', '                    0.0/5分', '经济型                ', '宝龙城市广场')]\n"
     ]
    }
   ],
   "source": [
    "import re\n",
    "import time\n",
    "html = driver.page_source\n",
    "#print(\"酒店名称\",\",评分:\",\",类型:\",\",地址:\")\n",
    "list=[]\n",
    "for i in range(2):\n",
    "    html = driver.page_source\n",
    "    reobj = re.compile(r'data-detail-code=\"list_page\">([\\d\\D]*?)</a>[\\d\\D]*?<span>([\\d\\D]*?)<i class=[\\d\\D]*?\\|</i>([\\d\\D]*?)</span>[\\d\\D]*?\" title=\"([\\d\\D]*?)\">')\n",
    "    for match in reobj.finditer(html):\n",
    "        # match start: match.start()\n",
    "        # match end (exclusive): match.end()\n",
    "        # matched text: match.group()\n",
    "        jdmc=match.group(1)\n",
    "        pf=match.group(2)\n",
    "        lx=match.group(3)\n",
    "        dz=match.group(4)\n",
    "        z=(jdmc,pf,lx,dz)\n",
    "        list.append(z)\n",
    "print(list)"
   ]
  },
  {
   "cell_type": "code",
   "execution_count": null,
   "metadata": {},
   "outputs": [],
   "source": [
    "import codecs\n",
    "f = codecs.open(\"D:\\\\酒店信息采集.csv\",\"w\",\"utf-8-sig\")             \n",
    "for i in list:\n",
    "    f.write(\",\".join(i)+\"\\n\")\n",
    "f.close()\n"
   ]
  },
  {
   "cell_type": "code",
   "execution_count": null,
   "metadata": {},
   "outputs": [],
   "source": []
  }
 ],
 "metadata": {
  "kernelspec": {
   "display_name": "Python 3",
   "language": "python",
   "name": "python3"
  },
  "language_info": {
   "codemirror_mode": {
    "name": "ipython",
    "version": 3
   },
   "file_extension": ".py",
   "mimetype": "text/x-python",
   "name": "python",
   "nbconvert_exporter": "python",
   "pygments_lexer": "ipython3",
   "version": "3.7.1"
  }
 },
 "nbformat": 4,
 "nbformat_minor": 2
}
