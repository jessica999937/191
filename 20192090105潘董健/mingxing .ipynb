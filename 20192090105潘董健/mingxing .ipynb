{
 "cells": [
  {
   "cell_type": "code",
   "execution_count": null,
   "metadata": {},
   "outputs": [],
   "source": [
    "import re,time,os\n",
    "from selenium import webdriver\n",
    "driver=webdriver.Chrome()\n",
    "url='https://www.baidu.com/s?wd=%E6%98%8E%E6%98%9F&rsv_spt=1&rsv_iqid=0xbe4b76860031fb66&issp=1&f=8&rsv_bp=1&rsv_idx=2&ie=utf-8&rqlang=&tn=baiduhome_pg&ch=&rsv_enter=1&rsv_dl=ib&inputT=2978'\n",
    "driver.get(url)\n",
    "list1=[]\n",
    "driver.find_element_by_xpath(\"//div[@id='1']/div/div/div/div[2]/p/span[4]\").click()\n",
    "time.sleep(2)\n",
    "driver.find_element_by_xpath(\"//div[@id='1']/div/div/div/div[2]/p[2]/span[3]\").click()\n",
    "time.sleep(2)\n",
    "while True:\n",
    "    html = driver.page_source\n",
    "    mx=re.compile(r'<p class=\"op_exactqa_item_img\"><a href=([\\d\\D]*?) title=([\\d\\D]*?) target=\"_blank\"><img class=\"c-img c-img4\" src=([\\d\\D]*?)></a></p>')\n",
    "    for match in mx.finditer(html):\n",
    "        a=match.group(2)\n",
    "        b=match.group(3)\n",
    "        c=match.group(1)\n",
    "        d=(a,b,c)\n",
    "        list1.append(d)\n",
    "    tz=re.compile('下一页',re.MULTILINE)\n",
    "    tz=re.compile(r'<span class=\"opui-page-next OP_LOG_BTN\"([\\d\\D]*?)下一页</span>')\n",
    "    for match in tz.finditer(html):\n",
    "        e=match.group(1)\n",
    "    if e.find(\"display: none;\")!=-1:\n",
    "            break\n",
    "    driver.find_element_by_xpath(\"//div[@id='1']/div/div/div[2]/div[2]/p/span[6]\").click()\n",
    "    time.sleep(2)\n",
    "with open(r'D:\\mingxing.csv','w',encoding='utf-8-sig') as f:\n",
    "    for i in list1:\n",
    "        f.write(i[0]+\",\"+i[1]+\",\"+i[2]+\"\\n\")\n",
    "print('ok')"
   ]
  }
 ],
 "metadata": {
  "kernelspec": {
   "display_name": "Python 3",
   "language": "python",
   "name": "python3"
  },
  "language_info": {
   "codemirror_mode": {
    "name": "ipython",
    "version": 3
   },
   "file_extension": ".py",
   "mimetype": "text/x-python",
   "name": "python",
   "nbconvert_exporter": "python",
   "pygments_lexer": "ipython3",
   "version": "3.6.5"
  }
 },
 "nbformat": 4,
 "nbformat_minor": 4
}
