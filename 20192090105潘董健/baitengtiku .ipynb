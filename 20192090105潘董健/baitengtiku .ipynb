{
 "cells": [
  {
   "cell_type": "markdown",
   "metadata": {},
   "source": [
    "# 示例\n",
    "### 任务链接：https://www.yuque.com/ol1q37/gi94xp/vy59wr\n",
    "### 参考链接：https://pintia.cn/problem-sets/1111652100718116864/problems/type/6\n",
    "###           https://pintia.cn/problem-sets/1111652100718116864/problems/type/7\n",
    "### 1）存储所有要采集页面的完整html\n",
    "### 2）编写代码完成数据的抽取\n",
    "### 3）设计数据库表结构（包括标号、标题、分数、通过数、提交数、通过率、题目内容、完整html、题型（编程题 、函数题），题目详情页链接）\n",
    "### 4）存储到sqlite数据库中"
   ]
  },
  {
   "cell_type": "markdown",
   "metadata": {},
   "source": [
    "## 解题思路：分别编写获取列表页和详情页的函数，最后存储到数据库中"
   ]
  },
  {
   "cell_type": "code",
   "execution_count": null,
   "metadata": {},
   "outputs": [],
   "source": [
    "import re,time\n",
    "from selenium import webdriver\n",
    "\n",
    "def extract_list_info(url,category):\n",
    "    driver = webdriver.Chrome()\n",
    "    driver.get(url)\n",
    "    time.sleep(5)#缓冲5秒\n",
    "    html = driver.page_source#获取源代码\n",
    "    result = []\n",
    "    reobj = re.compile(r'<tr><td class=\"answerIcon_1du7d\"></td><td>([\\d\\D]*?)</td><td><a href=\"([\\d\\D]*?)\" class=\"\">([\\d\\D]*?)</a></td><td>([\\d\\D]*?)</td><td>([\\d\\D]*?)</td><td>([\\d\\D]*?)</td><td>([\\d\\D]*?)</td></tr>')\n",
    "    for match in reobj.finditer(html):#获取列表页的标号、链接、标题、分数、通过数、提交数、通过率\n",
    "        biaohao = match.group(1)\n",
    "        lianjie = \"https://pintia.cn/\" + match.group(2)\n",
    "        biaoti = match.group(3)\n",
    "        fenshu = match.group(4)\n",
    "        tongguoshu = match.group(5)\n",
    "        tijiaosshu = match.group(6)\n",
    "        tongguolv = match.group(7)\n",
    "        for a,b,c,d,e,f,g in zip(biaohao,lianjie,biaoti,fenshu,tongguoshu,tijiaoshu,tongguolv):#打包在一起\n",
    "            result.append((category,a,b,c,d,e,f,g))\n",
    "        driver.close()\n",
    "    return result\n",
    "\n",
    "def extract_detail_info(results):\n",
    "        list1 = []\n",
    "        final_result = []\n",
    "    for i in results:\n",
    "        url1=results[2]\n",
    "        driver=webdriver.Chrome()\n",
    "        driver.get(url1)\n",
    "        time.sleep(5)\n",
    "        html1=driver.page_source\n",
    "        reobj = re.compile(r'<div class=\"problem_Yd8rq p-3 mb-3 background-grey-1\"><div class=\"ques-view\">([\\d\\D]*?)</div><div class=\"problemInfo_OZ-Rv\">')\n",
    "        for match in reobj.finditer(html1):\n",
    "            list1.append(match.group(1))\n",
    "        driver.close()\n",
    "    for x,y in zip(results,list1):\n",
    "        final_result.append((x,y))\n",
    "    return final_result\n",
    "final_results = []\n",
    "urls = [(\"https://pintia.cn/problem-sets/1111652100718116864/problems/type/6\",\"函数题\"),(\"https://pintia.cn/problem-sets/1111652100718116864/problems/type/7\",\"编程题\")]\n",
    "for url,category in urls:   \n",
    "    results = extract_list_info(url,category)\n",
    "    results = extract_detail_info(results)\n",
    "    final_result.extend(results)\n"
   ]
  }
 ],
 "metadata": {
  "kernelspec": {
   "display_name": "Python 3",
   "language": "python",
   "name": "python3"
  },
  "language_info": {
   "codemirror_mode": {
    "name": "ipython",
    "version": 3
   },
   "file_extension": ".py",
   "mimetype": "text/x-python",
   "name": "python",
   "nbconvert_exporter": "python",
   "pygments_lexer": "ipython3",
   "version": "3.6.5"
  }
 },
 "nbformat": 4,
 "nbformat_minor": 4
}
