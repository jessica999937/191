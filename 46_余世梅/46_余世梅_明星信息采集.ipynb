{
 "cells": [
  {
   "cell_type": "markdown",
   "metadata": {},
   "source": [
    "# 明星信息抽取作业 （包括姓名、图片、链接）\n",
    "https://www.yuque.com/ol1q37/gi94xp/gpb4iy"
   ]
  },
  {
   "cell_type": "markdown",
   "metadata": {},
   "source": [
    "整体流程：\n",
    "1.获取网页地址\n",
    "2.依次点击女、内地，有时间间隔\n",
    "3.采集需要的信息，循环抽取\n",
    "4.点击下一页，模拟点击，最后没有下一页\n",
    "5.存储数据"
   ]
  },
  {
   "cell_type": "code",
   "execution_count": 1,
   "metadata": {},
   "outputs": [],
   "source": [
    "#1.打开网页\n",
    "from selenium import webdriver\n",
    "import re\n",
    "driver=webdriver.Chrome()\n",
    "url = 'https://www.baidu.com/s?wd=%E6%98%8E%E6%98%9F&rsv_spt=1&rsv_iqid=0xbe4b76860031fb66&issp=1&f=8&rsv_bp=1&rsv_idx=2&ie=utf-8&rqlang=&tn=baiduhome_pg&ch=&rsv_enter=1&rsv_dl=ib&inputT=2978'\n",
    "driver.get(url)"
   ]
  },
  {
   "cell_type": "code",
   "execution_count": 2,
   "metadata": {},
   "outputs": [],
   "source": [
    "#打开看看是不是目标网页\n",
    "html = driver.page_source\n",
    "# print(html)"
   ]
  },
  {
   "cell_type": "code",
   "execution_count": 3,
   "metadata": {},
   "outputs": [],
   "source": [
    "#引用模块\n",
    "import time\n",
    "#点击女\n",
    "driver.find_element_by_xpath(\"//div[@id='1']/div/div/div/div[2]/p/span[4]\").click()\n",
    "time.sleep(2)\n",
    "#点击内地\n",
    "driver.find_element_by_xpath(\"//div[@id='1']/div/div/div/div[2]/p[2]/span[3]\").click()"
   ]
  },
  {
   "cell_type": "code",
   "execution_count": null,
   "metadata": {},
   "outputs": [],
   "source": [
    "#引用模块\n",
    "import re\n",
    "import time\n",
    "time.sleep(5)\n",
    "\n",
    "result=[]#存放数据的两层嵌套架构\n",
    "while True:\n",
    "    reobj = re.compile(r'<p class=\"op_exactqa_item_img\"><a href=([\\d\\D]*?) title=\"([\\d\\D]*?)\" target=\"_blank\"><img class=\"c-img c-img4\" src=([\\d\\D]*?)></a></p>')\n",
    "    for match in reobj.finditer(html):\n",
    "        a=match.group(1)#详情链接\n",
    "        b=match.group(2)#姓名\n",
    "        c=match.group(3)#图片\n",
    "        c=(b,c,a)\n",
    "        \n",
    "        result.append(c)\n",
    "\n",
    "\n",
    "if re.search(\"\"\"<span class=\"opui-page-next OP_LOG_BTN\" style=\"\">下一页</span>\"\"\", html): \n",
    "    driver.find_element_by_xpath(\"//div[@id='1']/div/div/div[2]/div[2]/p/span[6]\").click()\n",
    "else:\n",
    "    print(\"采集完毕\")\n",
    "print(result)"
   ]
  },
  {
   "cell_type": "code",
   "execution_count": null,
   "metadata": {},
   "outputs": [],
   "source": [
    "#信息存储\n",
    "import codecs\n",
    "f = codecs.open(\"D:\\\\数据采集.csv\",\"w\",\"utf-8-sig\")             \n",
    "for i in result:\n",
    "    f.write(\",\".join(i)+\"\\n\")\n",
    "f.close()  \n",
    "\n"
   ]
  }
 ],
 "metadata": {
  "kernelspec": {
   "display_name": "Python 3",
   "language": "python",
   "name": "python3"
  },
  "language_info": {
   "codemirror_mode": {
    "name": "ipython",
    "version": 3
   },
   "file_extension": ".py",
   "mimetype": "text/x-python",
   "name": "python",
   "nbconvert_exporter": "python",
   "pygments_lexer": "ipython3",
   "version": "3.7.1"
  }
 },
 "nbformat": 4,
 "nbformat_minor": 2
}
