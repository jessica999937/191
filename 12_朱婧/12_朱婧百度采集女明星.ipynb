{
 "cells": [
  {
   "cell_type": "markdown",
   "metadata": {},
   "source": [
    "# 采集百度所有内地女明星的信息\n",
    "\n",
    "1、打开百度；2、点击女、内地；3、信息存储"
   ]
  },
  {
   "cell_type": "code",
   "execution_count": null,
   "metadata": {},
   "outputs": [],
   "source": [
    "from selenium import webdriver #打开网页\n",
    "driver=webdriver.Chrome()\n",
    "url = 'https://www.baidu.com/s?wd=明星&rsv_spt=1&rsv_iqid=0xbe4b76860031fb66&issp=1&f=8&rsv_bp=1&rsv_idx=2&ie=utf-8&rqlang=&tn=baiduhome_pg&ch=&rsv_enter=1&rsv_dl=ib&inputT=2978'\n",
    "driver.get(url)"
   ]
  },
  {
   "cell_type": "code",
   "execution_count": null,
   "metadata": {},
   "outputs": [],
   "source": [
    "#打开看看是不是目标网页\n",
    "html=driver.page_source\n",
    "#print(html)"
   ]
  },
  {
   "cell_type": "code",
   "execution_count": null,
   "metadata": {},
   "outputs": [],
   "source": [
    "#引用模块\n",
    "import time\n",
    "#点击女\n",
    "driver.find_element_by_xpath(\"//div[@id='1']/div/div/div/div[2]/p/span[4]\").click()\n",
    "time.sleep(2)\n",
    "#点击内地\n",
    "driver.find_element_by_xpath(\"//div[@id='1']/div/div/div/div[2]/p[2]/span[3]\").click()"
   ]
  },
  {
   "cell_type": "markdown",
   "metadata": {},
   "source": [
    "# 采集明星的信息"
   ]
  },
  {
   "cell_type": "code",
   "execution_count": null,
   "metadata": {},
   "outputs": [],
   "source": [
    "#采集\n",
    "import re \n",
    "import time\n",
    "list = []\n",
    "for i in range(2):\n",
    "    html = driver.page_source  \n",
    "    reobj = re.compile(r'<a href([\\d\\D]*?)title[\\d\\D]*?target[\\d\\D]*?>([\\d\\D]*?)</a> <img class[\\d\\D]*? src([\\d\\D]*?)> ')\n",
    "    for match in reobj.finditer(html):\n",
    "        \n",
    "        a=match.group(1)\n",
    "        b=match.group(2)\n",
    "        c=match.group(3)\n",
    "        print(a,b,c)\n",
    "        list.append((a,b,c))\n",
    "        \n",
    "    driver.find_element_by_xpath(\"//div[@id='1']/div/div/div[2]/div[2]/p/span[6]\").click() #从Katalon Recorder插件中copy过来的代码\n",
    "    time.sleep(2)\n",
    "print(list)"
   ]
  },
  {
   "cell_type": "markdown",
   "metadata": {},
   "source": [
    "# 将采集的数据存储"
   ]
  },
  {
   "cell_type": "code",
   "execution_count": null,
   "metadata": {},
   "outputs": [],
   "source": [
    "#信息存储\n",
    "import codecs\n",
    "f = codecs.open(\"D:\\\\百度采集.csv\",\"w\",\"utf-8-sig\")             \n",
    "for i in list:\n",
    "    f.write(\",\".join(i)+\"\\n\")\n",
    "f.close()"
   ]
  }
 ],
 "metadata": {
  "kernelspec": {
   "display_name": "Python 3",
   "language": "python",
   "name": "python3"
  },
  "language_info": {
   "codemirror_mode": {
    "name": "ipython",
    "version": 3
   },
   "file_extension": ".py",
   "mimetype": "text/x-python",
   "name": "python",
   "nbconvert_exporter": "python",
   "pygments_lexer": "ipython3",
   "version": "3.7.3"
  }
 },
 "nbformat": 4,
 "nbformat_minor": 4
}
