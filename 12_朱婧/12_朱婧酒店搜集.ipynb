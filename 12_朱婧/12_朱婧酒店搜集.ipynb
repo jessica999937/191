{
 "cells": [
  {
   "cell_type": "markdown",
   "metadata": {},
   "source": [
    "# 使用百度地图搜集学校周边酒店信息"
   ]
  },
  {
   "cell_type": "markdown",
   "metadata": {},
   "source": [
    "## 打开百度地图"
   ]
  },
  {
   "cell_type": "code",
   "execution_count": 1,
   "metadata": {},
   "outputs": [],
   "source": [
    "from selenium import webdriver\n",
    "driver=webdriver.Chrome()\n",
    "url = 'https://map.baidu.com/search/%E9%85%92%E5%BA%97/@13401816.6,3523321.62,16z?querytype=nb&r=1000&wd=%E9%85%92%E5%BA%97&nb_x=13401816.60&nb_y=3523321.62&uid=7a0cb8c0d67a634683a00c28&b=(13397976.6,3521497.62;13405656.6,3525145.62)&l=16&gr_radius=1000&pn=0&device_ratio=1&da_src=shareurl'\n",
    "driver.get(url)"
   ]
  },
  {
   "cell_type": "markdown",
   "metadata": {},
   "source": [
    "# 获取网页中的酒店信息"
   ]
  },
  {
   "cell_type": "code",
   "execution_count": 3,
   "metadata": {},
   "outputs": [
    {
     "name": "stdout",
     "output_type": "stream",
     "text": [
      "[('浙江供销客房部', '                    /5分', '酒店                ', '杭州市江干区'), ('速8酒店(杭州下沙金沙居店)', '                    3.9/5分', '经济型                ', '杭州市江干区学正街567号金沙居B座3层'), ('TEL茶砚酒店', '                    4.1/5分', '舒适型                ', '学源街239号浙江经贸学院北门'), ('杭州青芒酒店', '                    4.6/5分', '经济型                ', '浙江省杭州市江干区学正街388号阳光创富中心10楼'), ('后街主题酒店', '                    4.1/5分', '经济型                ', '浙江省杭州市江干区下沙学正街559号(金沙居B座)'), ('沙城旅馆', '                    2.5/5分', '经济型                ', '杭州市江干区２５号大街与６号大街交叉路口往北约100米(金沙学府)'), ('贝壳酒店(学正街店)', '                    4.5/5分', '经济型                ', '浙江省杭州市江干区学正街539号'), ('汉庭酒店(杭州下沙学正街店)', '                    4.1/5分', '经济型                ', '浙江省杭州市江干区学正街388号阳光创富中心内'), ('杭州陌上花开2019公寓', '                    5.0/5分', '酒店                ', '浙江省杭州市江干区宝龙城市广场二期'), ('杭州钱塘江语公寓', '                    0.0/5分', '经济型                ', '宝龙城市广场')]\n"
     ]
    }
   ],
   "source": [
    "import re\n",
    "time.sleep(3)\n",
    "reobj = re.compile(r'<a href=\"javascript:void[\\d\\D]*?code=\"list_page\">([\\d\\D]*?)</a>[\\d\\D]*?<span>([\\d\\D]*?)<i class=\"seperate\">[\\d\\D]*?</i>([\\d\\D]*?)</span>[\\d\\D]*?title=\"[\\d\\D]*?\">([\\d\\D]*?)</span>')\n",
    "list=[]\n",
    "for match in reobj.finditer(html):\n",
    "    \n",
    "    list.append((match.group(1),match.group(2),match.group(3),match.group(4)))#一种存储数据的方法\n",
    "print(list)\n"
   ]
  },
  {
   "cell_type": "code",
   "execution_count": null,
   "metadata": {},
   "outputs": [],
   "source": []
  }
 ],
 "metadata": {
  "kernelspec": {
   "display_name": "Python 3",
   "language": "python",
   "name": "python3"
  },
  "language_info": {
   "codemirror_mode": {
    "name": "ipython",
    "version": 3
   },
   "file_extension": ".py",
   "mimetype": "text/x-python",
   "name": "python",
   "nbconvert_exporter": "python",
   "pygments_lexer": "ipython3",
   "version": "3.7.3"
  }
 },
 "nbformat": 4,
 "nbformat_minor": 4
}
