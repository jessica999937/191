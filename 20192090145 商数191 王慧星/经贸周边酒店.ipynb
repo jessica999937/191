{
 "cells": [
  {
   "cell_type": "code",
   "execution_count": 1,
   "metadata": {},
   "outputs": [],
   "source": [
    "from selenium import webdriver\n",
    "driver=webdriver.Chrome()\n",
    "url = 'https://map.baidu.com/search/%E9%85%92%E5%BA%97/@13401816.6,3523321.62,16z?querytype=nb&r=1000&c=179&wd=%E9%85%92%E5%BA%97&uid=7a0cb8c0d67a634683a00c28&b=(13393820.6,3524913.62;13397956.6,3527729.62)&l=16&gr_radius=1000&pn=0&device_ratio=1&da_src=shareurl'\n",
    "driver.get(url)"
   ]
  },
  {
   "cell_type": "code",
   "execution_count": 2,
   "metadata": {
    "scrolled": true
   },
   "outputs": [],
   "source": [
    "html = driver.page_source"
   ]
  },
  {
   "cell_type": "code",
   "execution_count": 3,
   "metadata": {},
   "outputs": [],
   "source": [
    "def whx(html):\n",
    "    html = driver.page_source\n",
    "    w = False\n",
    "    import re\n",
    "    reobj = re.compile(r'<a href=\"javascript:void\\(0\\)\" tid=\"toNextPage\" class=\"next next-none\">下([\\S\\s]*?)页&gt;</a>')\n",
    "    list0=[]\n",
    "    for match in reobj.finditer(html):\n",
    "        list0.append(match.group(1))\n",
    "    if len(list0) == 0:\n",
    "        w = True\n",
    "    return w"
   ]
  },
  {
   "cell_type": "code",
   "execution_count": 4,
   "metadata": {
    "scrolled": true
   },
   "outputs": [
    {
     "name": "stdout",
     "output_type": "stream",
     "text": [
      "采集完毕\n"
     ]
    }
   ],
   "source": [
    "wh = whx(html)\n",
    "list1=[]\n",
    "import time\n",
    "while wh == True:\n",
    "    import re\n",
    "    reobj = re.compile(r'title\" data-detail-code=\"list_page\">([\\s\\S]*?)</a>[\\s\\S]*?<span>\\s([\\s\\S]*?)<i class=\"seperate\">\\|</i>[\\s\\S]*?\\s*?</span>\\s*?</div>\\s*?<div class=\"row addr\">\\s*?<span class=\"n-grey\" title=\"[\\s\\S]*?\">([\\s\\S]*?)</span>', re.MULTILINE)\n",
    "    for match in reobj.finditer(html):\n",
    "        a=match.group(1)\n",
    "        b=match.group(2)\n",
    "        c=match.group(3)\n",
    "        d=(a,b,c)\n",
    "        list1.append(d)\n",
    "        html = driver.page_source\n",
    "        wh = whx(html)\n",
    "    \n",
    "    if whx(html)== False:\n",
    "        break\n",
    "    else:\n",
    "        driver.find_element_by_link_text(u\"下一页>\").click()\n",
    "        time.sleep(3)\n",
    "print(\"采集完毕\")"
   ]
  },
  {
   "cell_type": "code",
   "execution_count": 7,
   "metadata": {},
   "outputs": [],
   "source": [
    "import codecs\n",
    "f = codecs.open(r\"D:\\result.csv\",\"w\",\"utf-8-sig\")\n",
    "f.write(\"酒店名称,评分,地址\\n\")\n",
    "for i in list1:\n",
    "    f.write(\",\".join(i)+\"\\n\")\n",
    "f.close()"
   ]
  },
  {
   "cell_type": "code",
   "execution_count": null,
   "metadata": {},
   "outputs": [],
   "source": []
  }
 ],
 "metadata": {
  "kernelspec": {
   "display_name": "Python 3",
   "language": "python",
   "name": "python3"
  },
  "language_info": {
   "codemirror_mode": {
    "name": "ipython",
    "version": 3
   },
   "file_extension": ".py",
   "mimetype": "text/x-python",
   "name": "python",
   "nbconvert_exporter": "python",
   "pygments_lexer": "ipython3",
   "version": "3.6.5"
  }
 },
 "nbformat": 4,
 "nbformat_minor": 2
}
